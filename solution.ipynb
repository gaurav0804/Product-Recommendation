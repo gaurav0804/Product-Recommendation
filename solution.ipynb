{
 "cells": [
  {
   "cell_type": "markdown",
   "metadata": {},
   "source": [
    "Problem 1 &2 :I will first answer question number 2 that is to cluster users in to various groups. I am doing so because I am gonna need this information to answer question number 1"
   ]
  },
  {
   "cell_type": "code",
   "execution_count": 1,
   "metadata": {
    "scrolled": true
   },
   "outputs": [
    {
     "data": {
      "text/html": [
       "<div>\n",
       "<style scoped>\n",
       "    .dataframe tbody tr th:only-of-type {\n",
       "        vertical-align: middle;\n",
       "    }\n",
       "\n",
       "    .dataframe tbody tr th {\n",
       "        vertical-align: top;\n",
       "    }\n",
       "\n",
       "    .dataframe thead th {\n",
       "        text-align: right;\n",
       "    }\n",
       "</style>\n",
       "<table border=\"1\" class=\"dataframe\">\n",
       "  <thead>\n",
       "    <tr style=\"text-align: right;\">\n",
       "      <th></th>\n",
       "      <th>Date</th>\n",
       "      <th>user_id</th>\n",
       "      <th>event</th>\n",
       "      <th>price</th>\n",
       "      <th>item_id</th>\n",
       "      <th>item_cat</th>\n",
       "    </tr>\n",
       "  </thead>\n",
       "  <tbody>\n",
       "    <tr>\n",
       "      <th>0</th>\n",
       "      <td>2019-01-14</td>\n",
       "      <td>007e188b-63b2-4c0b-9c74-2eb5a4cb1d9b</td>\n",
       "      <td>addToCart</td>\n",
       "      <td>337</td>\n",
       "      <td>PR923AT55PMADFMX</td>\n",
       "      <td>women&gt;outerwear&gt;vests</td>\n",
       "    </tr>\n",
       "    <tr>\n",
       "      <th>1</th>\n",
       "      <td>2019-01-14</td>\n",
       "      <td>007e188b-63b2-4c0b-9c74-2eb5a4cb1d9b</td>\n",
       "      <td>addToCart</td>\n",
       "      <td>337</td>\n",
       "      <td>PR923AT55PMADFMX</td>\n",
       "      <td>women&gt;outerwear&gt;vests</td>\n",
       "    </tr>\n",
       "    <tr>\n",
       "      <th>2</th>\n",
       "      <td>2019-01-14</td>\n",
       "      <td>007e188b-63b2-4c0b-9c74-2eb5a4cb1d9b</td>\n",
       "      <td>addToCart</td>\n",
       "      <td>337</td>\n",
       "      <td>PR923AT09IUWDFMX</td>\n",
       "      <td>women&gt;outerwear&gt;vests</td>\n",
       "    </tr>\n",
       "    <tr>\n",
       "      <th>3</th>\n",
       "      <td>2019-01-14</td>\n",
       "      <td>007e188b-63b2-4c0b-9c74-2eb5a4cb1d9b</td>\n",
       "      <td>addToCart</td>\n",
       "      <td>117</td>\n",
       "      <td>MA194AT06LOBDFMX</td>\n",
       "      <td>boys&gt;topwear&gt;sweatshirts</td>\n",
       "    </tr>\n",
       "    <tr>\n",
       "      <th>4</th>\n",
       "      <td>2019-01-14</td>\n",
       "      <td>007e188b-63b2-4c0b-9c74-2eb5a4cb1d9b</td>\n",
       "      <td>addToCart</td>\n",
       "      <td>117</td>\n",
       "      <td>MA194AT06LOBDFMX</td>\n",
       "      <td>boys&gt;topwear&gt;sweatshirts</td>\n",
       "    </tr>\n",
       "  </tbody>\n",
       "</table>\n",
       "</div>"
      ],
      "text/plain": [
       "         Date                               user_id      event  price  \\\n",
       "0  2019-01-14  007e188b-63b2-4c0b-9c74-2eb5a4cb1d9b  addToCart    337   \n",
       "1  2019-01-14  007e188b-63b2-4c0b-9c74-2eb5a4cb1d9b  addToCart    337   \n",
       "2  2019-01-14  007e188b-63b2-4c0b-9c74-2eb5a4cb1d9b  addToCart    337   \n",
       "3  2019-01-14  007e188b-63b2-4c0b-9c74-2eb5a4cb1d9b  addToCart    117   \n",
       "4  2019-01-14  007e188b-63b2-4c0b-9c74-2eb5a4cb1d9b  addToCart    117   \n",
       "\n",
       "            item_id                  item_cat  \n",
       "0  PR923AT55PMADFMX     women>outerwear>vests  \n",
       "1  PR923AT55PMADFMX     women>outerwear>vests  \n",
       "2  PR923AT09IUWDFMX     women>outerwear>vests  \n",
       "3  MA194AT06LOBDFMX  boys>topwear>sweatshirts  \n",
       "4  MA194AT06LOBDFMX  boys>topwear>sweatshirts  "
      ]
     },
     "execution_count": 1,
     "metadata": {},
     "output_type": "execute_result"
    }
   ],
   "source": [
    "import pandas as pd\n",
    "df = pd.read_csv(\"./data.csv\", names=['Date','user_id','event','price','item_id','item_cat'],encoding='utf-8')\n",
    "\n",
    "#Remove rows with NaN values\n",
    "df.dropna(how='any',inplace=True)\n",
    "\n",
    "#A number of rows have '-' in item_id column. These rows do not add value in item wise analysis. Remove these rows\n",
    "df=df.loc[df['item_id']!='-']\n",
    "df.head()"
   ]
  },
  {
   "cell_type": "code",
   "execution_count": 2,
   "metadata": {},
   "outputs": [],
   "source": [
    "#Split the item category column in to individual categories, sub categories\n",
    "df[['item_cat_0','item_cat_1','item_cat_2','item_cat_3']] = df['item_cat'].str.split('>',expand=True)"
   ]
  },
  {
   "cell_type": "code",
   "execution_count": 3,
   "metadata": {},
   "outputs": [
    {
     "data": {
      "text/html": [
       "<div>\n",
       "<style scoped>\n",
       "    .dataframe tbody tr th:only-of-type {\n",
       "        vertical-align: middle;\n",
       "    }\n",
       "\n",
       "    .dataframe tbody tr th {\n",
       "        vertical-align: top;\n",
       "    }\n",
       "\n",
       "    .dataframe thead th {\n",
       "        text-align: right;\n",
       "    }\n",
       "</style>\n",
       "<table border=\"1\" class=\"dataframe\">\n",
       "  <thead>\n",
       "    <tr style=\"text-align: right;\">\n",
       "      <th></th>\n",
       "      <th>Date</th>\n",
       "      <th>user_id</th>\n",
       "      <th>event</th>\n",
       "      <th>price</th>\n",
       "      <th>item_id</th>\n",
       "      <th>item_cat</th>\n",
       "      <th>item_cat_0</th>\n",
       "      <th>item_cat_1</th>\n",
       "      <th>item_cat_2</th>\n",
       "      <th>item_cat_3</th>\n",
       "    </tr>\n",
       "  </thead>\n",
       "  <tbody>\n",
       "    <tr>\n",
       "      <th>0</th>\n",
       "      <td>2019-01-14</td>\n",
       "      <td>007e188b-63b2-4c0b-9c74-2eb5a4cb1d9b</td>\n",
       "      <td>addToCart</td>\n",
       "      <td>337</td>\n",
       "      <td>PR923AT55PMADFMX</td>\n",
       "      <td>women&gt;outerwear&gt;vests</td>\n",
       "      <td>women</td>\n",
       "      <td>outerwear</td>\n",
       "      <td>vests</td>\n",
       "      <td>None</td>\n",
       "    </tr>\n",
       "    <tr>\n",
       "      <th>1</th>\n",
       "      <td>2019-01-14</td>\n",
       "      <td>007e188b-63b2-4c0b-9c74-2eb5a4cb1d9b</td>\n",
       "      <td>addToCart</td>\n",
       "      <td>337</td>\n",
       "      <td>PR923AT55PMADFMX</td>\n",
       "      <td>women&gt;outerwear&gt;vests</td>\n",
       "      <td>women</td>\n",
       "      <td>outerwear</td>\n",
       "      <td>vests</td>\n",
       "      <td>None</td>\n",
       "    </tr>\n",
       "    <tr>\n",
       "      <th>2</th>\n",
       "      <td>2019-01-14</td>\n",
       "      <td>007e188b-63b2-4c0b-9c74-2eb5a4cb1d9b</td>\n",
       "      <td>addToCart</td>\n",
       "      <td>337</td>\n",
       "      <td>PR923AT09IUWDFMX</td>\n",
       "      <td>women&gt;outerwear&gt;vests</td>\n",
       "      <td>women</td>\n",
       "      <td>outerwear</td>\n",
       "      <td>vests</td>\n",
       "      <td>None</td>\n",
       "    </tr>\n",
       "    <tr>\n",
       "      <th>3</th>\n",
       "      <td>2019-01-14</td>\n",
       "      <td>007e188b-63b2-4c0b-9c74-2eb5a4cb1d9b</td>\n",
       "      <td>addToCart</td>\n",
       "      <td>117</td>\n",
       "      <td>MA194AT06LOBDFMX</td>\n",
       "      <td>boys&gt;topwear&gt;sweatshirts</td>\n",
       "      <td>boys</td>\n",
       "      <td>topwear</td>\n",
       "      <td>sweatshirts</td>\n",
       "      <td>None</td>\n",
       "    </tr>\n",
       "    <tr>\n",
       "      <th>4</th>\n",
       "      <td>2019-01-14</td>\n",
       "      <td>007e188b-63b2-4c0b-9c74-2eb5a4cb1d9b</td>\n",
       "      <td>addToCart</td>\n",
       "      <td>117</td>\n",
       "      <td>MA194AT06LOBDFMX</td>\n",
       "      <td>boys&gt;topwear&gt;sweatshirts</td>\n",
       "      <td>boys</td>\n",
       "      <td>topwear</td>\n",
       "      <td>sweatshirts</td>\n",
       "      <td>None</td>\n",
       "    </tr>\n",
       "  </tbody>\n",
       "</table>\n",
       "</div>"
      ],
      "text/plain": [
       "         Date                               user_id      event  price  \\\n",
       "0  2019-01-14  007e188b-63b2-4c0b-9c74-2eb5a4cb1d9b  addToCart    337   \n",
       "1  2019-01-14  007e188b-63b2-4c0b-9c74-2eb5a4cb1d9b  addToCart    337   \n",
       "2  2019-01-14  007e188b-63b2-4c0b-9c74-2eb5a4cb1d9b  addToCart    337   \n",
       "3  2019-01-14  007e188b-63b2-4c0b-9c74-2eb5a4cb1d9b  addToCart    117   \n",
       "4  2019-01-14  007e188b-63b2-4c0b-9c74-2eb5a4cb1d9b  addToCart    117   \n",
       "\n",
       "            item_id                  item_cat item_cat_0 item_cat_1  \\\n",
       "0  PR923AT55PMADFMX     women>outerwear>vests      women  outerwear   \n",
       "1  PR923AT55PMADFMX     women>outerwear>vests      women  outerwear   \n",
       "2  PR923AT09IUWDFMX     women>outerwear>vests      women  outerwear   \n",
       "3  MA194AT06LOBDFMX  boys>topwear>sweatshirts       boys    topwear   \n",
       "4  MA194AT06LOBDFMX  boys>topwear>sweatshirts       boys    topwear   \n",
       "\n",
       "    item_cat_2 item_cat_3  \n",
       "0        vests       None  \n",
       "1        vests       None  \n",
       "2        vests       None  \n",
       "3  sweatshirts       None  \n",
       "4  sweatshirts       None  "
      ]
     },
     "execution_count": 3,
     "metadata": {},
     "output_type": "execute_result"
    }
   ],
   "source": [
    "df.head()"
   ]
  },
  {
   "cell_type": "code",
   "execution_count": 4,
   "metadata": {},
   "outputs": [],
   "source": [
    "#Fill the subcategories with NaN with 'NA'. NaN values create problems with a lot of methods and \n",
    "#algorithms hence it is better to replace these with a string\n",
    "values={'item_cat_0':'NA','item_cat_1':'NA','item_cat_2':'NA','item_cat_3':'NA'}\n",
    "df=df.fillna(value=values)"
   ]
  },
  {
   "cell_type": "code",
   "execution_count": 5,
   "metadata": {},
   "outputs": [],
   "source": [
    "from sklearn.cluster import KMeans\n",
    "import numpy as np\n"
   ]
  },
  {
   "cell_type": "code",
   "execution_count": 6,
   "metadata": {},
   "outputs": [
    {
     "name": "stderr",
     "output_type": "stream",
     "text": [
      "C:\\Users\\gaura\\Anaconda3\\lib\\site-packages\\ipykernel_launcher.py:5: SettingWithCopyWarning: \n",
      "A value is trying to be set on a copy of a slice from a DataFrame.\n",
      "Try using .loc[row_indexer,col_indexer] = value instead\n",
      "\n",
      "See the caveats in the documentation: http://pandas.pydata.org/pandas-docs/stable/indexing.html#indexing-view-versus-copy\n",
      "  \"\"\"\n",
      "C:\\Users\\gaura\\Anaconda3\\lib\\site-packages\\ipykernel_launcher.py:6: SettingWithCopyWarning: \n",
      "A value is trying to be set on a copy of a slice from a DataFrame.\n",
      "Try using .loc[row_indexer,col_indexer] = value instead\n",
      "\n",
      "See the caveats in the documentation: http://pandas.pydata.org/pandas-docs/stable/indexing.html#indexing-view-versus-copy\n",
      "  \n",
      "C:\\Users\\gaura\\Anaconda3\\lib\\site-packages\\ipykernel_launcher.py:7: SettingWithCopyWarning: \n",
      "A value is trying to be set on a copy of a slice from a DataFrame.\n",
      "Try using .loc[row_indexer,col_indexer] = value instead\n",
      "\n",
      "See the caveats in the documentation: http://pandas.pydata.org/pandas-docs/stable/indexing.html#indexing-view-versus-copy\n",
      "  import sys\n",
      "C:\\Users\\gaura\\Anaconda3\\lib\\site-packages\\ipykernel_launcher.py:8: SettingWithCopyWarning: \n",
      "A value is trying to be set on a copy of a slice from a DataFrame.\n",
      "Try using .loc[row_indexer,col_indexer] = value instead\n",
      "\n",
      "See the caveats in the documentation: http://pandas.pydata.org/pandas-docs/stable/indexing.html#indexing-view-versus-copy\n",
      "  \n",
      "C:\\Users\\gaura\\Anaconda3\\lib\\site-packages\\ipykernel_launcher.py:9: SettingWithCopyWarning: \n",
      "A value is trying to be set on a copy of a slice from a DataFrame.\n",
      "Try using .loc[row_indexer,col_indexer] = value instead\n",
      "\n",
      "See the caveats in the documentation: http://pandas.pydata.org/pandas-docs/stable/indexing.html#indexing-view-versus-copy\n",
      "  if __name__ == '__main__':\n"
     ]
    }
   ],
   "source": [
    "#Extract the seven columns required for clustering algorithm\n",
    "X_df=df[['user_id','event','price','item_cat_0','item_cat_1','item_cat_2','item_cat_3']]\n",
    "\n",
    "#Convert the categorical/ string data to int/float data. The Kmeans algo of sklearn doesn't accept categorical data\n",
    "X_df['event']=X_df['event'].astype('category').cat.codes.values\n",
    "X_df['item_cat_0']=X_df['item_cat_0'].astype('category').cat.codes.values\n",
    "X_df['item_cat_1']=X_df['item_cat_1'].astype('category').cat.codes.values\n",
    "X_df['item_cat_2']=X_df['item_cat_2'].astype('category').cat.codes.values\n",
    "X_df['item_cat_3']=X_df['item_cat_3'].astype('category').cat.codes.values\n"
   ]
  },
  {
   "cell_type": "code",
   "execution_count": 7,
   "metadata": {},
   "outputs": [
    {
     "data": {
      "text/plain": [
       "(361526, 6)"
      ]
     },
     "execution_count": 7,
     "metadata": {},
     "output_type": "execute_result"
    }
   ],
   "source": [
    "#Group the rows by user_id and aggregate (sum) the other numerical feature values \n",
    "X_df=X_df.groupby('user_id')['event','price','item_cat_0','item_cat_1','item_cat_2','item_cat_3'].sum()\n",
    "X_df.shape"
   ]
  },
  {
   "cell_type": "code",
   "execution_count": 8,
   "metadata": {},
   "outputs": [
    {
     "data": {
      "text/plain": [
       "(361526, 6)"
      ]
     },
     "execution_count": 8,
     "metadata": {},
     "output_type": "execute_result"
    }
   ],
   "source": [
    "#Convert the data frame to numpy array\n",
    "X=X_df[['event','price','item_cat_0','item_cat_1','item_cat_2','item_cat_3']].values\n",
    "X.shape"
   ]
  },
  {
   "cell_type": "code",
   "execution_count": 9,
   "metadata": {},
   "outputs": [],
   "source": [
    "#Define a kmeans clustering model and fit data\n",
    "km = KMeans(\n",
    "    n_clusters=10, init='random',\n",
    "    n_init=10, max_iter=300, \n",
    "    tol=1e-04, random_state=0\n",
    ")\n",
    "y_km = km.fit_predict(X)"
   ]
  },
  {
   "cell_type": "markdown",
   "metadata": {},
   "source": [
    "We can do an elbow test to optimise the number of clusters. I am however taking 10 clusters for the analysis"
   ]
  },
  {
   "cell_type": "code",
   "execution_count": 10,
   "metadata": {},
   "outputs": [
    {
     "name": "stdout",
     "output_type": "stream",
     "text": [
      "7885\n",
      "23124\n",
      "891\n",
      "257353\n",
      "2646\n",
      "69228\n",
      "20\n",
      "3\n",
      "281\n",
      "95\n"
     ]
    }
   ],
   "source": [
    "#Count the number of distinct items in each group\n",
    "for i in np.unique(y_km):\n",
    "    count=y_km.tolist().count(i)\n",
    "    print(count)"
   ]
  },
  {
   "cell_type": "code",
   "execution_count": 11,
   "metadata": {},
   "outputs": [],
   "source": [
    "#Add the cluster value as column and extract a separate dataframe with user_id and corresponding cluster\n",
    "#this data frame will be used as a mapping table\n",
    "X_df['cluster']=y_km\n",
    "X_df=X_df.reset_index()\n",
    "user_to_cluster=X_df[['user_id','cluster']]"
   ]
  },
  {
   "cell_type": "code",
   "execution_count": 12,
   "metadata": {},
   "outputs": [
    {
     "data": {
      "text/html": [
       "<div>\n",
       "<style scoped>\n",
       "    .dataframe tbody tr th:only-of-type {\n",
       "        vertical-align: middle;\n",
       "    }\n",
       "\n",
       "    .dataframe tbody tr th {\n",
       "        vertical-align: top;\n",
       "    }\n",
       "\n",
       "    .dataframe thead th {\n",
       "        text-align: right;\n",
       "    }\n",
       "</style>\n",
       "<table border=\"1\" class=\"dataframe\">\n",
       "  <thead>\n",
       "    <tr style=\"text-align: right;\">\n",
       "      <th></th>\n",
       "      <th>user_id</th>\n",
       "      <th>cluster</th>\n",
       "    </tr>\n",
       "  </thead>\n",
       "  <tbody>\n",
       "    <tr>\n",
       "      <th>0</th>\n",
       "      <td>00001bc3-56ef-49d4-8fce-f8114116df40</td>\n",
       "      <td>1</td>\n",
       "    </tr>\n",
       "    <tr>\n",
       "      <th>1</th>\n",
       "      <td>00008541-e38f-45eb-8203-b4f6f12b1ac8</td>\n",
       "      <td>3</td>\n",
       "    </tr>\n",
       "    <tr>\n",
       "      <th>2</th>\n",
       "      <td>000089b1-214b-45e3-bfdc-70acf2e98091</td>\n",
       "      <td>3</td>\n",
       "    </tr>\n",
       "    <tr>\n",
       "      <th>3</th>\n",
       "      <td>00013f5a-ab08-4699-b3da-4fec18b31ac3</td>\n",
       "      <td>5</td>\n",
       "    </tr>\n",
       "    <tr>\n",
       "      <th>4</th>\n",
       "      <td>0001908b-a639-41f7-86ff-b200d07a5120</td>\n",
       "      <td>5</td>\n",
       "    </tr>\n",
       "  </tbody>\n",
       "</table>\n",
       "</div>"
      ],
      "text/plain": [
       "                                user_id  cluster\n",
       "0  00001bc3-56ef-49d4-8fce-f8114116df40        1\n",
       "1  00008541-e38f-45eb-8203-b4f6f12b1ac8        3\n",
       "2  000089b1-214b-45e3-bfdc-70acf2e98091        3\n",
       "3  00013f5a-ab08-4699-b3da-4fec18b31ac3        5\n",
       "4  0001908b-a639-41f7-86ff-b200d07a5120        5"
      ]
     },
     "execution_count": 12,
     "metadata": {},
     "output_type": "execute_result"
    }
   ],
   "source": [
    "user_to_cluster.head()"
   ]
  },
  {
   "cell_type": "code",
   "execution_count": 13,
   "metadata": {},
   "outputs": [],
   "source": [
    "#Add cluster to each row of dataframe.\n",
    "df=df.merge(user_to_cluster,how='inner',on='user_id')"
   ]
  },
  {
   "cell_type": "markdown",
   "metadata": {},
   "source": [
    "Clustering done. Now predicting CLTV for each cluster. This cluster information can be used to find out patterns, behaviours and forecasting. I have used the same data for predicting spend for these clusters to solve question number 1. Also, the data for every user is too less to make any meaningful analysis/ prediction."
   ]
  },
  {
   "cell_type": "code",
   "execution_count": 14,
   "metadata": {},
   "outputs": [],
   "source": [
    "#Remove the rows with page view as this information is not going to help understand CLTV or item demand.\n",
    "# I AM ASSUMING HERE THAT 'ALL ADD TO CART' IS CONVERTED TO 'BUY' because there is no event\n",
    "#such as remove from cart  and also the dataset with 'buy' event is too small.\n",
    "df=df.loc[df['event']!='pageView']"
   ]
  },
  {
   "cell_type": "code",
   "execution_count": 15,
   "metadata": {},
   "outputs": [
    {
     "data": {
      "text/plain": [
       "('2019-01-01', '2019-06-06')"
      ]
     },
     "execution_count": 15,
     "metadata": {},
     "output_type": "execute_result"
    }
   ],
   "source": [
    "#Check the date range of the datset\n",
    "start_date=min(df['Date'])\n",
    "end_date=max(df['Date'])\n",
    "start_date,end_date"
   ]
  },
  {
   "cell_type": "code",
   "execution_count": 16,
   "metadata": {},
   "outputs": [
    {
     "data": {
      "text/plain": [
       "(157, 157)"
      ]
     },
     "execution_count": 16,
     "metadata": {},
     "output_type": "execute_result"
    }
   ],
   "source": [
    "#Check if all dates have atleast one corresponding row. This information is necessary for time series analysis\n",
    "#which we will be doing the following two answers\n",
    "date_range=pd.date_range(start_date,end_date).tolist()\n",
    "len(df['Date'].unique()),len(date_range)"
   ]
  },
  {
   "cell_type": "code",
   "execution_count": 18,
   "metadata": {},
   "outputs": [
    {
     "data": {
      "text/plain": [
       "157"
      ]
     },
     "execution_count": 18,
     "metadata": {},
     "output_type": "execute_result"
    }
   ],
   "source": [
    "day=list(range(1,len(date_range)+1))\n",
    "len(day)"
   ]
  },
  {
   "cell_type": "code",
   "execution_count": 19,
   "metadata": {},
   "outputs": [],
   "source": [
    "#Create a dataframe with all dates and corresponding week number for all dates in range\n",
    "dates_df=pd.DataFrame({'Date':date_range,'day':day})"
   ]
  },
  {
   "cell_type": "code",
   "execution_count": 20,
   "metadata": {},
   "outputs": [
    {
     "data": {
      "text/plain": [
       "(44099, numpy.ndarray)"
      ]
     },
     "execution_count": 20,
     "metadata": {},
     "output_type": "execute_result"
    }
   ],
   "source": [
    "users=df.user_id.unique()\n",
    "len(users),type(users)"
   ]
  },
  {
   "cell_type": "code",
   "execution_count": 21,
   "metadata": {},
   "outputs": [],
   "source": [
    "#We can do the analysis for all clusters. I am choosing cluster 3 as some of the clusters do not have enough\n",
    "#data points for data analysis. As discussed earlier we can optimise parameters to make sure that the clusters\n",
    "#have enough members and those are balanced.\n",
    "'''import random\n",
    "cluster=random.randint(1,11)\n",
    "print(cluster)'''\n",
    "\n",
    "cluster=3"
   ]
  },
  {
   "cell_type": "code",
   "execution_count": 22,
   "metadata": {},
   "outputs": [
    {
     "data": {
      "text/html": [
       "<div>\n",
       "<style scoped>\n",
       "    .dataframe tbody tr th:only-of-type {\n",
       "        vertical-align: middle;\n",
       "    }\n",
       "\n",
       "    .dataframe tbody tr th {\n",
       "        vertical-align: top;\n",
       "    }\n",
       "\n",
       "    .dataframe thead th {\n",
       "        text-align: right;\n",
       "    }\n",
       "</style>\n",
       "<table border=\"1\" class=\"dataframe\">\n",
       "  <thead>\n",
       "    <tr style=\"text-align: right;\">\n",
       "      <th></th>\n",
       "      <th>Date</th>\n",
       "      <th>user_id</th>\n",
       "      <th>event</th>\n",
       "      <th>price</th>\n",
       "      <th>item_id</th>\n",
       "      <th>item_cat</th>\n",
       "      <th>item_cat_0</th>\n",
       "      <th>item_cat_1</th>\n",
       "      <th>item_cat_2</th>\n",
       "      <th>item_cat_3</th>\n",
       "      <th>cluster</th>\n",
       "    </tr>\n",
       "  </thead>\n",
       "  <tbody>\n",
       "    <tr>\n",
       "      <th>532</th>\n",
       "      <td>2019-01-30</td>\n",
       "      <td>014c4b3c-259a-414d-a6fc-7bcc07a8cc04</td>\n",
       "      <td>addToCart</td>\n",
       "      <td>229</td>\n",
       "      <td>YE305AT59BCUDFMX</td>\n",
       "      <td>women&gt;topwear&gt;blouses</td>\n",
       "      <td>women</td>\n",
       "      <td>topwear</td>\n",
       "      <td>blouses</td>\n",
       "      <td>NA</td>\n",
       "      <td>3</td>\n",
       "    </tr>\n",
       "    <tr>\n",
       "      <th>533</th>\n",
       "      <td>2019-01-30</td>\n",
       "      <td>014c4b3c-259a-414d-a6fc-7bcc07a8cc04</td>\n",
       "      <td>addToCart</td>\n",
       "      <td>229</td>\n",
       "      <td>YE305AT35BDSDFMX</td>\n",
       "      <td>women&gt;topwear&gt;blouses</td>\n",
       "      <td>women</td>\n",
       "      <td>topwear</td>\n",
       "      <td>blouses</td>\n",
       "      <td>NA</td>\n",
       "      <td>3</td>\n",
       "    </tr>\n",
       "    <tr>\n",
       "      <th>792</th>\n",
       "      <td>2019-01-28</td>\n",
       "      <td>0213a669-8005-4e0e-83ab-30ba5fcee0a8</td>\n",
       "      <td>addToCart</td>\n",
       "      <td>208</td>\n",
       "      <td>GU531AB99CRODFMX</td>\n",
       "      <td>men&gt;innerwear&gt;boxer</td>\n",
       "      <td>men</td>\n",
       "      <td>innerwear</td>\n",
       "      <td>boxer</td>\n",
       "      <td>NA</td>\n",
       "      <td>3</td>\n",
       "    </tr>\n",
       "    <tr>\n",
       "      <th>974</th>\n",
       "      <td>2019-01-31</td>\n",
       "      <td>039e3767-dc45-49d6-a38d-39f67e21839a</td>\n",
       "      <td>addToCart</td>\n",
       "      <td>279</td>\n",
       "      <td>SK303AT32BHRDFMX</td>\n",
       "      <td>women&gt;dresses&gt;others</td>\n",
       "      <td>women</td>\n",
       "      <td>dresses</td>\n",
       "      <td>others</td>\n",
       "      <td>NA</td>\n",
       "      <td>3</td>\n",
       "    </tr>\n",
       "    <tr>\n",
       "      <th>1060</th>\n",
       "      <td>2019-01-20</td>\n",
       "      <td>041a3a3e-8c18-4304-858b-5b4d06795bf0</td>\n",
       "      <td>addToCart</td>\n",
       "      <td>1299</td>\n",
       "      <td>TH934AT95SAUDFMX</td>\n",
       "      <td>women&gt;outerwear&gt;jackets</td>\n",
       "      <td>women</td>\n",
       "      <td>outerwear</td>\n",
       "      <td>jackets</td>\n",
       "      <td>NA</td>\n",
       "      <td>3</td>\n",
       "    </tr>\n",
       "  </tbody>\n",
       "</table>\n",
       "</div>"
      ],
      "text/plain": [
       "            Date                               user_id      event  price  \\\n",
       "532   2019-01-30  014c4b3c-259a-414d-a6fc-7bcc07a8cc04  addToCart    229   \n",
       "533   2019-01-30  014c4b3c-259a-414d-a6fc-7bcc07a8cc04  addToCart    229   \n",
       "792   2019-01-28  0213a669-8005-4e0e-83ab-30ba5fcee0a8  addToCart    208   \n",
       "974   2019-01-31  039e3767-dc45-49d6-a38d-39f67e21839a  addToCart    279   \n",
       "1060  2019-01-20  041a3a3e-8c18-4304-858b-5b4d06795bf0  addToCart   1299   \n",
       "\n",
       "               item_id                 item_cat item_cat_0 item_cat_1  \\\n",
       "532   YE305AT59BCUDFMX    women>topwear>blouses      women    topwear   \n",
       "533   YE305AT35BDSDFMX    women>topwear>blouses      women    topwear   \n",
       "792   GU531AB99CRODFMX      men>innerwear>boxer        men  innerwear   \n",
       "974   SK303AT32BHRDFMX     women>dresses>others      women    dresses   \n",
       "1060  TH934AT95SAUDFMX  women>outerwear>jackets      women  outerwear   \n",
       "\n",
       "     item_cat_2 item_cat_3  cluster  \n",
       "532     blouses         NA        3  \n",
       "533     blouses         NA        3  \n",
       "792       boxer         NA        3  \n",
       "974      others         NA        3  \n",
       "1060    jackets         NA        3  "
      ]
     },
     "execution_count": 22,
     "metadata": {},
     "output_type": "execute_result"
    }
   ],
   "source": [
    "#Extract rows with specific cluster\n",
    "df_cluster=df.loc[df['cluster']==cluster]\n",
    "df_cluster.head()"
   ]
  },
  {
   "cell_type": "code",
   "execution_count": 23,
   "metadata": {},
   "outputs": [],
   "source": [
    "#Convert the Date column datatype\n",
    "df_cluster=df_cluster.astype({'Date':'datetime64[ns]'})"
   ]
  },
  {
   "cell_type": "code",
   "execution_count": 24,
   "metadata": {},
   "outputs": [],
   "source": [
    "#Merge the data frame with refrence table (dates and daynumber) just to make sure that some dates are not \n",
    "#skipped in the processing and also add day number for the time series analysis\n",
    "df_cluster=dates_df.merge(df_cluster,how='left',on='Date')"
   ]
  },
  {
   "cell_type": "code",
   "execution_count": 25,
   "metadata": {},
   "outputs": [],
   "source": [
    "#Fill the NaN\n",
    "values={'cluster_id':cluster,'price':0}\n",
    "df_cluster=df_cluster.fillna(value=values)"
   ]
  },
  {
   "cell_type": "code",
   "execution_count": 26,
   "metadata": {},
   "outputs": [
    {
     "name": "stderr",
     "output_type": "stream",
     "text": [
      "C:\\Users\\gaura\\Anaconda3\\lib\\site-packages\\ipykernel_launcher.py:2: FutureWarning: using a dict on a Series for aggregation\n",
      "is deprecated and will be removed in a future version\n",
      "  \n"
     ]
    },
    {
     "data": {
      "text/html": [
       "<div>\n",
       "<style scoped>\n",
       "    .dataframe tbody tr th:only-of-type {\n",
       "        vertical-align: middle;\n",
       "    }\n",
       "\n",
       "    .dataframe tbody tr th {\n",
       "        vertical-align: top;\n",
       "    }\n",
       "\n",
       "    .dataframe thead th {\n",
       "        text-align: right;\n",
       "    }\n",
       "</style>\n",
       "<table border=\"1\" class=\"dataframe\">\n",
       "  <thead>\n",
       "    <tr style=\"text-align: right;\">\n",
       "      <th></th>\n",
       "      <th>price</th>\n",
       "    </tr>\n",
       "    <tr>\n",
       "      <th>Date</th>\n",
       "      <th></th>\n",
       "    </tr>\n",
       "  </thead>\n",
       "  <tbody>\n",
       "    <tr>\n",
       "      <th>2019-01-01</th>\n",
       "      <td>15732</td>\n",
       "    </tr>\n",
       "    <tr>\n",
       "      <th>2019-01-02</th>\n",
       "      <td>27616</td>\n",
       "    </tr>\n",
       "    <tr>\n",
       "      <th>2019-01-03</th>\n",
       "      <td>26823</td>\n",
       "    </tr>\n",
       "    <tr>\n",
       "      <th>2019-01-04</th>\n",
       "      <td>15317</td>\n",
       "    </tr>\n",
       "    <tr>\n",
       "      <th>2019-01-05</th>\n",
       "      <td>16448</td>\n",
       "    </tr>\n",
       "  </tbody>\n",
       "</table>\n",
       "</div>"
      ],
      "text/plain": [
       "            price\n",
       "Date             \n",
       "2019-01-01  15732\n",
       "2019-01-02  27616\n",
       "2019-01-03  26823\n",
       "2019-01-04  15317\n",
       "2019-01-05  16448"
      ]
     },
     "execution_count": 26,
     "metadata": {},
     "output_type": "execute_result"
    }
   ],
   "source": [
    "#Group by date and add the price to calculate total sales in that cluster on that date\n",
    "df_cluster_group_by_date=df_cluster.groupby(['Date'])['price'].agg({'price':'sum'})\n",
    "df_cluster_group_by_date.head()"
   ]
  },
  {
   "cell_type": "code",
   "execution_count": 27,
   "metadata": {},
   "outputs": [],
   "source": [
    "#Add the week number to the dataframe. This will be used to \n",
    "df_cluster_group_by_date['day']=day"
   ]
  },
  {
   "cell_type": "code",
   "execution_count": 30,
   "metadata": {},
   "outputs": [
    {
     "data": {
      "text/plain": [
       "(array([ 15732,  27616,  26823,  15317,  16448,  12986,  40632,  35069,\n",
       "         28273,  26362,  27843,  36201,  31482,  52863,  47809,  40605,\n",
       "         34350,  33928,  19348,  25796,  30711,  31729,  46640,  43513,\n",
       "         67330,  39884,  39762,  49363,  41936,  26014,  18833,  16362,\n",
       "         20824,  31807,  42709,  39406,  32113,  32405,  26223,  35855,\n",
       "         30981,  40393,  23505,  58060,  22269,  27931,  26883,  23872,\n",
       "         43394,  34548,  37225,  30640,  25230,  40712,  41083,  35498,\n",
       "         31253,  24992,  23557,  21515,  16371,  13930,  27908,  72489,\n",
       "         48224,  43958,  25345,  26719,  14653,  41221,  65531,  44855,\n",
       "         71997,  55956,  24461,  26779,  51254,  68223,  54423,  48678,\n",
       "         33398,  24283,  22294,  32124,  61080,  52336,  39306,  16292,\n",
       "         17684,  19951,  35589,  36975,  36588,  33075,  37153,  23109,\n",
       "         18829,  27803,  44558,  55733,  43545,  25459,  28893,  12802,\n",
       "         48770,  44219,  47458,  28525,  32444,  28840,  27748,  38169,\n",
       "         34705,  28741,  24911,  30055,  31249,  22233,  41984,  46253,\n",
       "         38734,  62335,  36059,  29883,  30552,  37934,  24614,  34393,\n",
       "         33184,  23830,  26403,  24326,  72865,  88352,  93559,  94080,\n",
       "        108761,  63414,  67174,  61549,  49863,  30851,  38214,  42512,\n",
       "         62198,  70606, 151023, 170501, 130516, 107075, 106897,  56369,\n",
       "         23984,  35411,  35276,  37641,  31024], dtype=int64),\n",
       " array([  1,   2,   3,   4,   5,   6,   7,   8,   9,  10,  11,  12,  13,\n",
       "         14,  15,  16,  17,  18,  19,  20,  21,  22,  23,  24,  25,  26,\n",
       "         27,  28,  29,  30,  31,  32,  33,  34,  35,  36,  37,  38,  39,\n",
       "         40,  41,  42,  43,  44,  45,  46,  47,  48,  49,  50,  51,  52,\n",
       "         53,  54,  55,  56,  57,  58,  59,  60,  61,  62,  63,  64,  65,\n",
       "         66,  67,  68,  69,  70,  71,  72,  73,  74,  75,  76,  77,  78,\n",
       "         79,  80,  81,  82,  83,  84,  85,  86,  87,  88,  89,  90,  91,\n",
       "         92,  93,  94,  95,  96,  97,  98,  99, 100, 101, 102, 103, 104,\n",
       "        105, 106, 107, 108, 109, 110, 111, 112, 113, 114, 115, 116, 117,\n",
       "        118, 119, 120, 121, 122, 123, 124, 125, 126, 127, 128, 129, 130,\n",
       "        131, 132, 133, 134, 135, 136, 137, 138, 139, 140, 141, 142, 143,\n",
       "        144, 145, 146, 147, 148, 149, 150, 151, 152, 153, 154, 155, 156,\n",
       "        157], dtype=int64),\n",
       " 157,\n",
       " 157)"
      ]
     },
     "execution_count": 30,
     "metadata": {},
     "output_type": "execute_result"
    }
   ],
   "source": [
    "#Extract prices as numpy array as well as days\n",
    "prices=df_cluster_group_by_date.price.values\n",
    "days=df_cluster_group_by_date.day.values\n",
    "prices,days,len(prices),len(days)"
   ]
  },
  {
   "cell_type": "code",
   "execution_count": 31,
   "metadata": {},
   "outputs": [
    {
     "name": "stdout",
     "output_type": "stream",
     "text": [
      "                            OLS Regression Results                            \n",
      "==============================================================================\n",
      "Dep. Variable:                  price   R-squared:                       0.154\n",
      "Model:                            OLS   Adj. R-squared:                  0.148\n",
      "Method:                 Least Squares   F-statistic:                     28.15\n",
      "Date:                Tue, 20 Aug 2019   Prob (F-statistic):           3.83e-07\n",
      "Time:                        18:31:27   Log-Likelihood:                -1792.9\n",
      "No. Observations:                 157   AIC:                             3590.\n",
      "Df Residuals:                     155   BIC:                             3596.\n",
      "Df Model:                           1                                         \n",
      "Covariance Type:            nonrobust                                         \n",
      "==============================================================================\n",
      "                 coef    std err          t      P>|t|      [0.025      0.975]\n",
      "------------------------------------------------------------------------------\n",
      "Intercept   2.416e+04   3557.148      6.791      0.000    1.71e+04    3.12e+04\n",
      "day          207.2033     39.057      5.305      0.000     130.051     284.355\n",
      "==============================================================================\n",
      "Omnibus:                       82.918   Durbin-Watson:                   0.566\n",
      "Prob(Omnibus):                  0.000   Jarque-Bera (JB):              372.493\n",
      "Skew:                           1.983   Prob(JB):                     1.30e-81\n",
      "Kurtosis:                       9.420   Cond. No.                         183.\n",
      "==============================================================================\n",
      "\n",
      "Warnings:\n",
      "[1] Standard Errors assume that the covariance matrix of the errors is correctly specified.\n"
     ]
    }
   ],
   "source": [
    "import statsmodels.api as sm\n",
    "import statsmodels.formula.api as smf\n",
    "\n",
    "#Do a linear regression of sales over day number\n",
    "mod = smf.ols(formula='price ~ day', data=df_cluster_group_by_date)\n",
    "res = mod.fit()\n",
    "print(res.summary())"
   ]
  },
  {
   "cell_type": "code",
   "execution_count": 33,
   "metadata": {},
   "outputs": [
    {
     "data": {
      "text/plain": [
       "<matplotlib.axes._subplots.AxesSubplot at 0x170a2d9ee48>"
      ]
     },
     "execution_count": 33,
     "metadata": {},
     "output_type": "execute_result"
    },
    {
     "data": {
      "image/png": "[encoded data removed]",
      "text/plain": [
       "<Figure size 432x288 with 1 Axes>"
      ]
     },
     "metadata": {
      "needs_background": "light"
     },
     "output_type": "display_data"
    }
   ],
   "source": [
    "import seaborn as sns\n",
    "\n",
    "sns.scatterplot(days,prices)"
   ]
  },
  {
   "cell_type": "markdown",
   "metadata": {},
   "source": [
    "We can see here that the linear regression model doesn't fit well as Rsquared value is less. Same can be seen in \n",
    "plot above as well. We can analyse the data and predict sales using time series analysis methods such as Holt Winters or RNN. I will be using LSTMs in the analysis. However, best model can only be decided once we have tried various methods."
   ]
  },
  {
   "cell_type": "code",
   "execution_count": 34,
   "metadata": {},
   "outputs": [
    {
     "name": "stderr",
     "output_type": "stream",
     "text": [
      "Using TensorFlow backend.\n"
     ]
    }
   ],
   "source": [
    "#Import the required libraries\n",
    "import matplotlib.pyplot as plt\n",
    "import math\n",
    "from keras.models import Sequential\n",
    "from keras.layers import Dense\n",
    "from keras.layers import LSTM\n",
    "from sklearn.preprocessing import MinMaxScaler\n",
    "from sklearn.metrics import mean_squared_error"
   ]
  },
  {
   "cell_type": "code",
   "execution_count": 35,
   "metadata": {},
   "outputs": [
    {
     "name": "stderr",
     "output_type": "stream",
     "text": [
      "C:\\Users\\gaura\\Anaconda3\\lib\\site-packages\\sklearn\\utils\\validation.py:595: DataConversionWarning: Data with input dtype int64 was converted to float64 by MinMaxScaler.\n",
      "  warnings.warn(msg, DataConversionWarning)\n"
     ]
    }
   ],
   "source": [
    "# define a function to prepare dataset for LSTM\n",
    "def create_dataset(dataset, look_back=1):\n",
    "    dataX, dataY = [], []\n",
    "    for i in range(len(dataset)-look_back-1):\n",
    "        a = dataset[i:(i+look_back), 0]\n",
    "        dataX.append(a)\n",
    "        dataY.append(dataset[i + look_back, 0])\n",
    "    return np.array(dataX), np.array(dataY)\n",
    "\n",
    "# normalize the dataset\n",
    "scaler = MinMaxScaler(feature_range=(0, 1))\n",
    "prices=prices.reshape(-1,1)\n",
    "dataset = scaler.fit_transform(prices)\n",
    "\n",
    "# split into train and test sets\n",
    "train_size = int(len(dataset) * 0.67)\n",
    "test_size = len(dataset) - train_size\n",
    "train, test = dataset[0:train_size,:], dataset[train_size:len(dataset),:]\n",
    "\n",
    "# reshape into X=t and Y=t+1 with a lookback period of 3. We can try various lookcack periods to decide\n",
    "#best model.\n",
    "look_back = 3\n",
    "trainX, trainY = create_dataset(train, look_back)\n",
    "testX, testY = create_dataset(test, look_back)\n",
    "\n",
    "# reshape input to be -samples, time steps, features\n",
    "trainX = np.reshape(trainX, (trainX.shape[0], 1, trainX.shape[1]))\n",
    "testX = np.reshape(testX, (testX.shape[0], 1, testX.shape[1]))"
   ]
  },
  {
   "cell_type": "code",
   "execution_count": 36,
   "metadata": {},
   "outputs": [
    {
     "name": "stdout",
     "output_type": "stream",
     "text": [
      "WARNING:tensorflow:From C:\\Users\\gaura\\Anaconda3\\lib\\site-packages\\tensorflow\\python\\framework\\op_def_library.py:263: colocate_with (from tensorflow.python.framework.ops) is deprecated and will be removed in a future version.\n",
      "Instructions for updating:\n",
      "Colocations handled automatically by placer.\n",
      "WARNING:tensorflow:From C:\\Users\\gaura\\Anaconda3\\lib\\site-packages\\tensorflow\\python\\ops\\math_ops.py:3066: to_int32 (from tensorflow.python.ops.math_ops) is deprecated and will be removed in a future version.\n",
      "Instructions for updating:\n",
      "Use tf.cast instead.\n",
      "Epoch 1/50\n",
      "101/101 [==============================] - 2s 17ms/step - loss: 0.0132\n",
      "Epoch 2/50\n",
      "101/101 [==============================] - 0s 2ms/step - loss: 0.0070\n",
      "Epoch 3/50\n",
      "101/101 [==============================] - 0s 2ms/step - loss: 0.0067\n",
      "Epoch 4/50\n",
      "101/101 [==============================] - 0s 2ms/step - loss: 0.0067\n",
      "Epoch 5/50\n",
      "101/101 [==============================] - 0s 2ms/step - loss: 0.0066\n",
      "Epoch 6/50\n",
      "101/101 [==============================] - 0s 2ms/step - loss: 0.0065\n",
      "Epoch 7/50\n",
      "101/101 [==============================] - 0s 2ms/step - loss: 0.0064\n",
      "Epoch 8/50\n",
      "101/101 [==============================] - 0s 2ms/step - loss: 0.0063\n",
      "Epoch 9/50\n",
      "101/101 [==============================] - 0s 2ms/step - loss: 0.0064\n",
      "Epoch 10/50\n",
      "101/101 [==============================] - 0s 2ms/step - loss: 0.0062\n",
      "Epoch 11/50\n",
      "101/101 [==============================] - 0s 2ms/step - loss: 0.0061\n",
      "Epoch 12/50\n",
      "101/101 [==============================] - 0s 2ms/step - loss: 0.0061\n",
      "Epoch 13/50\n",
      "101/101 [==============================] - 0s 3ms/step - loss: 0.0061\n",
      "Epoch 14/50\n",
      "101/101 [==============================] - 0s 3ms/step - loss: 0.0060\n",
      "Epoch 15/50\n",
      "101/101 [==============================] - 0s 3ms/step - loss: 0.0060\n",
      "Epoch 16/50\n",
      "101/101 [==============================] - 0s 3ms/step - loss: 0.0058\n",
      "Epoch 17/50\n",
      "101/101 [==============================] - 0s 2ms/step - loss: 0.0058\n",
      "Epoch 18/50\n",
      "101/101 [==============================] - 0s 2ms/step - loss: 0.0058\n",
      "Epoch 19/50\n",
      "101/101 [==============================] - 0s 2ms/step - loss: 0.0057\n",
      "Epoch 20/50\n",
      "101/101 [==============================] - 0s 2ms/step - loss: 0.0057\n",
      "Epoch 21/50\n",
      "101/101 [==============================] - 0s 2ms/step - loss: 0.0057\n",
      "Epoch 22/50\n",
      "101/101 [==============================] - 0s 2ms/step - loss: 0.0055\n",
      "Epoch 23/50\n",
      "101/101 [==============================] - 0s 3ms/step - loss: 0.0055\n",
      "Epoch 24/50\n",
      "101/101 [==============================] - 0s 2ms/step - loss: 0.0057\n",
      "Epoch 25/50\n",
      "101/101 [==============================] - 0s 2ms/step - loss: 0.0056\n",
      "Epoch 26/50\n",
      "101/101 [==============================] - 0s 3ms/step - loss: 0.0056\n",
      "Epoch 27/50\n",
      "101/101 [==============================] - 0s 3ms/step - loss: 0.0056\n",
      "Epoch 28/50\n",
      "101/101 [==============================] - 0s 3ms/step - loss: 0.0056\n",
      "Epoch 29/50\n",
      "101/101 [==============================] - 0s 3ms/step - loss: 0.0056\n",
      "Epoch 30/50\n",
      "101/101 [==============================] - 0s 3ms/step - loss: 0.0056\n",
      "Epoch 31/50\n",
      "101/101 [==============================] - 0s 2ms/step - loss: 0.0056\n",
      "Epoch 32/50\n",
      "101/101 [==============================] - 0s 2ms/step - loss: 0.0055\n",
      "Epoch 33/50\n",
      "101/101 [==============================] - 0s 2ms/step - loss: 0.0056\n",
      "Epoch 34/50\n",
      "101/101 [==============================] - 0s 2ms/step - loss: 0.0056\n",
      "Epoch 35/50\n",
      "101/101 [==============================] - 0s 3ms/step - loss: 0.0056\n",
      "Epoch 36/50\n",
      "101/101 [==============================] - 0s 3ms/step - loss: 0.0056\n",
      "Epoch 37/50\n",
      "101/101 [==============================] - 0s 2ms/step - loss: 0.0055\n",
      "Epoch 38/50\n",
      "101/101 [==============================] - 0s 2ms/step - loss: 0.0056\n",
      "Epoch 39/50\n",
      "101/101 [==============================] - 0s 3ms/step - loss: 0.0055\n",
      "Epoch 40/50\n",
      "101/101 [==============================] - 0s 2ms/step - loss: 0.0055\n",
      "Epoch 41/50\n",
      "101/101 [==============================] - 0s 2ms/step - loss: 0.0056\n",
      "Epoch 42/50\n",
      "101/101 [==============================] - 0s 2ms/step - loss: 0.0055\n",
      "Epoch 43/50\n",
      "101/101 [==============================] - 0s 3ms/step - loss: 0.0056\n",
      "Epoch 44/50\n",
      "101/101 [==============================] - 0s 2ms/step - loss: 0.0055\n",
      "Epoch 45/50\n",
      "101/101 [==============================] - 0s 3ms/step - loss: 0.0058\n",
      "Epoch 46/50\n",
      "101/101 [==============================] - 0s 4ms/step - loss: 0.0055\n",
      "Epoch 47/50\n",
      "101/101 [==============================] - 0s 3ms/step - loss: 0.0055\n",
      "Epoch 48/50\n",
      "101/101 [==============================] - 0s 4ms/step - loss: 0.0056\n",
      "Epoch 49/50\n",
      "101/101 [==============================] - 0s 3ms/step - loss: 0.0055\n",
      "Epoch 50/50\n",
      "101/101 [==============================] - 0s 2ms/step - loss: 0.0056\n"
     ]
    },
    {
     "data": {
      "text/plain": [
       "<keras.callbacks.History at 0x170b4ca35c0>"
      ]
     },
     "execution_count": 36,
     "metadata": {},
     "output_type": "execute_result"
    }
   ],
   "source": [
    "# create and fit the LSTM network\n",
    "model = Sequential()\n",
    "model.add(LSTM(4, input_shape=(1, look_back)))\n",
    "model.add(Dense(1))\n",
    "model.compile(loss='mean_squared_error', optimizer='adam')\n",
    "model.fit(trainX, trainY, epochs=50, batch_size=1, verbose=1)"
   ]
  },
  {
   "cell_type": "code",
   "execution_count": 37,
   "metadata": {},
   "outputs": [],
   "source": [
    "# make predictions\n",
    "trainPredict = model.predict(trainX)\n",
    "testPredict = model.predict(testX)"
   ]
  },
  {
   "cell_type": "code",
   "execution_count": 38,
   "metadata": {},
   "outputs": [
    {
     "data": {
      "image/png": "[encoded data removed]",
      "text/plain": [
       "<Figure size 432x288 with 1 Axes>"
      ]
     },
     "metadata": {
      "needs_background": "light"
     },
     "output_type": "display_data"
    }
   ],
   "source": [
    "#Visualise actuals vs predictions\n",
    "plt.plot(testPredict, color= 'red')\n",
    "plt.plot(testY)\n",
    "plt.show()"
   ]
  },
  {
   "cell_type": "markdown",
   "metadata": {},
   "source": [
    "I will again use LSTM to predict the demand. The demand in turn can be used to plan inventory levels.\n",
    "The data of individual items (item_id) is sparse and not enough for accurate predictions. Therefore I have aggregated the demand at first level of item categorisation. The sub category planning can be done accordingly based on other models or subjective assessment."
   ]
  },
  {
   "cell_type": "code",
   "execution_count": 39,
   "metadata": {},
   "outputs": [
    {
     "data": {
      "text/html": [
       "<div>\n",
       "<style scoped>\n",
       "    .dataframe tbody tr th:only-of-type {\n",
       "        vertical-align: middle;\n",
       "    }\n",
       "\n",
       "    .dataframe tbody tr th {\n",
       "        vertical-align: top;\n",
       "    }\n",
       "\n",
       "    .dataframe thead th {\n",
       "        text-align: right;\n",
       "    }\n",
       "</style>\n",
       "<table border=\"1\" class=\"dataframe\">\n",
       "  <thead>\n",
       "    <tr style=\"text-align: right;\">\n",
       "      <th></th>\n",
       "      <th>Date</th>\n",
       "      <th>user_id</th>\n",
       "      <th>event</th>\n",
       "      <th>price</th>\n",
       "      <th>item_id</th>\n",
       "      <th>item_cat</th>\n",
       "      <th>item_cat_0</th>\n",
       "      <th>item_cat_1</th>\n",
       "      <th>item_cat_2</th>\n",
       "      <th>item_cat_3</th>\n",
       "      <th>cluster</th>\n",
       "    </tr>\n",
       "  </thead>\n",
       "  <tbody>\n",
       "    <tr>\n",
       "      <th>0</th>\n",
       "      <td>2019-01-14</td>\n",
       "      <td>007e188b-63b2-4c0b-9c74-2eb5a4cb1d9b</td>\n",
       "      <td>addToCart</td>\n",
       "      <td>337</td>\n",
       "      <td>PR923AT55PMADFMX</td>\n",
       "      <td>women&gt;outerwear&gt;vests</td>\n",
       "      <td>women</td>\n",
       "      <td>outerwear</td>\n",
       "      <td>vests</td>\n",
       "      <td>NA</td>\n",
       "      <td>0</td>\n",
       "    </tr>\n",
       "    <tr>\n",
       "      <th>1</th>\n",
       "      <td>2019-01-14</td>\n",
       "      <td>007e188b-63b2-4c0b-9c74-2eb5a4cb1d9b</td>\n",
       "      <td>addToCart</td>\n",
       "      <td>337</td>\n",
       "      <td>PR923AT55PMADFMX</td>\n",
       "      <td>women&gt;outerwear&gt;vests</td>\n",
       "      <td>women</td>\n",
       "      <td>outerwear</td>\n",
       "      <td>vests</td>\n",
       "      <td>NA</td>\n",
       "      <td>0</td>\n",
       "    </tr>\n",
       "    <tr>\n",
       "      <th>2</th>\n",
       "      <td>2019-01-14</td>\n",
       "      <td>007e188b-63b2-4c0b-9c74-2eb5a4cb1d9b</td>\n",
       "      <td>addToCart</td>\n",
       "      <td>337</td>\n",
       "      <td>PR923AT09IUWDFMX</td>\n",
       "      <td>women&gt;outerwear&gt;vests</td>\n",
       "      <td>women</td>\n",
       "      <td>outerwear</td>\n",
       "      <td>vests</td>\n",
       "      <td>NA</td>\n",
       "      <td>0</td>\n",
       "    </tr>\n",
       "    <tr>\n",
       "      <th>3</th>\n",
       "      <td>2019-01-14</td>\n",
       "      <td>007e188b-63b2-4c0b-9c74-2eb5a4cb1d9b</td>\n",
       "      <td>addToCart</td>\n",
       "      <td>117</td>\n",
       "      <td>MA194AT06LOBDFMX</td>\n",
       "      <td>boys&gt;topwear&gt;sweatshirts</td>\n",
       "      <td>boys</td>\n",
       "      <td>topwear</td>\n",
       "      <td>sweatshirts</td>\n",
       "      <td>NA</td>\n",
       "      <td>0</td>\n",
       "    </tr>\n",
       "    <tr>\n",
       "      <th>4</th>\n",
       "      <td>2019-01-14</td>\n",
       "      <td>007e188b-63b2-4c0b-9c74-2eb5a4cb1d9b</td>\n",
       "      <td>addToCart</td>\n",
       "      <td>117</td>\n",
       "      <td>MA194AT06LOBDFMX</td>\n",
       "      <td>boys&gt;topwear&gt;sweatshirts</td>\n",
       "      <td>boys</td>\n",
       "      <td>topwear</td>\n",
       "      <td>sweatshirts</td>\n",
       "      <td>NA</td>\n",
       "      <td>0</td>\n",
       "    </tr>\n",
       "  </tbody>\n",
       "</table>\n",
       "</div>"
      ],
      "text/plain": [
       "         Date                               user_id      event  price  \\\n",
       "0  2019-01-14  007e188b-63b2-4c0b-9c74-2eb5a4cb1d9b  addToCart    337   \n",
       "1  2019-01-14  007e188b-63b2-4c0b-9c74-2eb5a4cb1d9b  addToCart    337   \n",
       "2  2019-01-14  007e188b-63b2-4c0b-9c74-2eb5a4cb1d9b  addToCart    337   \n",
       "3  2019-01-14  007e188b-63b2-4c0b-9c74-2eb5a4cb1d9b  addToCart    117   \n",
       "4  2019-01-14  007e188b-63b2-4c0b-9c74-2eb5a4cb1d9b  addToCart    117   \n",
       "\n",
       "            item_id                  item_cat item_cat_0 item_cat_1  \\\n",
       "0  PR923AT55PMADFMX     women>outerwear>vests      women  outerwear   \n",
       "1  PR923AT55PMADFMX     women>outerwear>vests      women  outerwear   \n",
       "2  PR923AT09IUWDFMX     women>outerwear>vests      women  outerwear   \n",
       "3  MA194AT06LOBDFMX  boys>topwear>sweatshirts       boys    topwear   \n",
       "4  MA194AT06LOBDFMX  boys>topwear>sweatshirts       boys    topwear   \n",
       "\n",
       "    item_cat_2 item_cat_3  cluster  \n",
       "0        vests         NA        0  \n",
       "1        vests         NA        0  \n",
       "2        vests         NA        0  \n",
       "3  sweatshirts         NA        0  \n",
       "4  sweatshirts         NA        0  "
      ]
     },
     "execution_count": 39,
     "metadata": {},
     "output_type": "execute_result"
    }
   ],
   "source": [
    "df.head()"
   ]
  },
  {
   "cell_type": "code",
   "execution_count": 40,
   "metadata": {},
   "outputs": [],
   "source": [
    "items=df.item_id.unique()"
   ]
  },
  {
   "cell_type": "code",
   "execution_count": 41,
   "metadata": {},
   "outputs": [],
   "source": [
    "item=np.random.choice(items)"
   ]
  },
  {
   "cell_type": "code",
   "execution_count": 42,
   "metadata": {},
   "outputs": [
    {
     "data": {
      "text/plain": [
       "'AE745AT60FLFDFMX'"
      ]
     },
     "execution_count": 42,
     "metadata": {},
     "output_type": "execute_result"
    }
   ],
   "source": [
    "item"
   ]
  },
  {
   "cell_type": "code",
   "execution_count": 43,
   "metadata": {},
   "outputs": [],
   "source": [
    "df_item=df.loc[df['item_id']==item]"
   ]
  },
  {
   "cell_type": "code",
   "execution_count": 44,
   "metadata": {},
   "outputs": [
    {
     "data": {
      "text/plain": [
       "17"
      ]
     },
     "execution_count": 44,
     "metadata": {},
     "output_type": "execute_result"
    }
   ],
   "source": [
    "len(df_item['Date'].unique())"
   ]
  },
  {
   "cell_type": "markdown",
   "metadata": {},
   "source": [
    "As we can see above the number of data points for single item are too less"
   ]
  },
  {
   "cell_type": "code",
   "execution_count": 45,
   "metadata": {},
   "outputs": [
    {
     "data": {
      "text/plain": [
       "157"
      ]
     },
     "execution_count": 45,
     "metadata": {},
     "output_type": "execute_result"
    }
   ],
   "source": [
    "categories=df.item_cat_0.unique()\n",
    "#cat_0=np.random.choice(categories)\n",
    "cat_0='women'\n",
    "df_0=df.loc[df['item_cat_0']==cat_0]\n",
    "len(df_0['Date'].unique())"
   ]
  },
  {
   "cell_type": "code",
   "execution_count": 46,
   "metadata": {},
   "outputs": [],
   "source": [
    "df_0=df_0.astype({'Date':'datetime64[ns]'})\n",
    "df_0=dates_df.merge(df_0,how='left',on='Date')\n",
    "#values={'item_cat_0':cat_0,'price':0}\n",
    "#df_0=df_0.fillna(value=values)"
   ]
  },
  {
   "cell_type": "code",
   "execution_count": 47,
   "metadata": {},
   "outputs": [
    {
     "data": {
      "text/html": [
       "<div>\n",
       "<style scoped>\n",
       "    .dataframe tbody tr th:only-of-type {\n",
       "        vertical-align: middle;\n",
       "    }\n",
       "\n",
       "    .dataframe tbody tr th {\n",
       "        vertical-align: top;\n",
       "    }\n",
       "\n",
       "    .dataframe thead th {\n",
       "        text-align: right;\n",
       "    }\n",
       "</style>\n",
       "<table border=\"1\" class=\"dataframe\">\n",
       "  <thead>\n",
       "    <tr style=\"text-align: right;\">\n",
       "      <th></th>\n",
       "      <th>Date</th>\n",
       "      <th>demand</th>\n",
       "    </tr>\n",
       "  </thead>\n",
       "  <tbody>\n",
       "    <tr>\n",
       "      <th>0</th>\n",
       "      <td>2019-01-01</td>\n",
       "      <td>153</td>\n",
       "    </tr>\n",
       "    <tr>\n",
       "      <th>1</th>\n",
       "      <td>2019-01-02</td>\n",
       "      <td>305</td>\n",
       "    </tr>\n",
       "    <tr>\n",
       "      <th>2</th>\n",
       "      <td>2019-01-03</td>\n",
       "      <td>344</td>\n",
       "    </tr>\n",
       "    <tr>\n",
       "      <th>3</th>\n",
       "      <td>2019-01-04</td>\n",
       "      <td>154</td>\n",
       "    </tr>\n",
       "    <tr>\n",
       "      <th>4</th>\n",
       "      <td>2019-01-05</td>\n",
       "      <td>195</td>\n",
       "    </tr>\n",
       "  </tbody>\n",
       "</table>\n",
       "</div>"
      ],
      "text/plain": [
       "        Date  demand\n",
       "0 2019-01-01     153\n",
       "1 2019-01-02     305\n",
       "2 2019-01-03     344\n",
       "3 2019-01-04     154\n",
       "4 2019-01-05     195"
      ]
     },
     "execution_count": 47,
     "metadata": {},
     "output_type": "execute_result"
    }
   ],
   "source": [
    "df_0_group_by_date=df_0.groupby(['Date'])['item_cat_0'].size().reset_index(name ='demand')\n",
    "#df = df.groupby('Id', sort=False)[\"Amount\"].sum()\n",
    "df_0_group_by_date.head()"
   ]
  },
  {
   "cell_type": "code",
   "execution_count": 48,
   "metadata": {},
   "outputs": [],
   "source": [
    "demand=df_0_group_by_date.demand.values\n",
    "demand=demand.reshape(-1,1)"
   ]
  },
  {
   "cell_type": "code",
   "execution_count": 49,
   "metadata": {},
   "outputs": [
    {
     "name": "stderr",
     "output_type": "stream",
     "text": [
      "C:\\Users\\gaura\\Anaconda3\\lib\\site-packages\\sklearn\\utils\\validation.py:595: DataConversionWarning: Data with input dtype int64 was converted to float64 by MinMaxScaler.\n",
      "  warnings.warn(msg, DataConversionWarning)\n"
     ]
    }
   ],
   "source": [
    "def create_dataset(dataset, look_back=1):\n",
    "    dataX, dataY = [], []\n",
    "    for i in range(len(dataset)-look_back-1):\n",
    "        a = dataset[i:(i+look_back), 0]\n",
    "        dataX.append(a)\n",
    "        dataY.append(dataset[i + look_back, 0])\n",
    "    return np.array(dataX), np.array(dataY)\n",
    "\n",
    "# normalize the dataset\n",
    "scaler = MinMaxScaler(feature_range=(0, 1))\n",
    "\n",
    "dataset = scaler.fit_transform(demand)\n",
    "\n",
    "# split into train and test sets\n",
    "train_size = int(len(dataset) * 0.67)\n",
    "test_size = len(dataset) - train_size\n",
    "train, test = dataset[0:train_size,:], dataset[train_size:len(dataset),:]\n",
    "\n",
    "# reshape into X=t and Y=t+1\n",
    "look_back = 3\n",
    "trainX, trainY = create_dataset(train, look_back)\n",
    "testX, testY = create_dataset(test, look_back)\n",
    "\n",
    "# reshape input to be [samples, time steps, features]\n",
    "trainX = np.reshape(trainX, (trainX.shape[0], 1, trainX.shape[1]))\n",
    "testX = np.reshape(testX, (testX.shape[0], 1, testX.shape[1]))"
   ]
  },
  {
   "cell_type": "code",
   "execution_count": 50,
   "metadata": {},
   "outputs": [
    {
     "name": "stdout",
     "output_type": "stream",
     "text": [
      "Epoch 1/100\n",
      " - 1s - loss: 0.0048\n",
      "Epoch 2/100\n",
      " - 0s - loss: 0.0031\n",
      "Epoch 3/100\n",
      " - 0s - loss: 0.0031\n",
      "Epoch 4/100\n",
      " - 0s - loss: 0.0030\n",
      "Epoch 5/100\n",
      " - 0s - loss: 0.0030\n",
      "Epoch 6/100\n",
      " - 0s - loss: 0.0029\n",
      "Epoch 7/100\n",
      " - 0s - loss: 0.0029\n",
      "Epoch 8/100\n",
      " - 0s - loss: 0.0028\n",
      "Epoch 9/100\n",
      " - 0s - loss: 0.0027\n",
      "Epoch 10/100\n",
      " - 0s - loss: 0.0027\n",
      "Epoch 11/100\n",
      " - 0s - loss: 0.0028\n",
      "Epoch 12/100\n",
      " - 0s - loss: 0.0027\n",
      "Epoch 13/100\n",
      " - 0s - loss: 0.0027\n",
      "Epoch 14/100\n",
      " - 0s - loss: 0.0026\n",
      "Epoch 15/100\n",
      " - 0s - loss: 0.0026\n",
      "Epoch 16/100\n",
      " - 0s - loss: 0.0026\n",
      "Epoch 17/100\n",
      " - 0s - loss: 0.0026\n",
      "Epoch 18/100\n",
      " - 0s - loss: 0.0025\n",
      "Epoch 19/100\n",
      " - 0s - loss: 0.0026\n",
      "Epoch 20/100\n",
      " - 0s - loss: 0.0026\n",
      "Epoch 21/100\n",
      " - 0s - loss: 0.0025\n",
      "Epoch 22/100\n",
      " - 0s - loss: 0.0025\n",
      "Epoch 23/100\n",
      " - 0s - loss: 0.0025\n",
      "Epoch 24/100\n",
      " - 0s - loss: 0.0025\n",
      "Epoch 25/100\n",
      " - 0s - loss: 0.0025\n",
      "Epoch 26/100\n",
      " - 0s - loss: 0.0026\n",
      "Epoch 27/100\n",
      " - 0s - loss: 0.0025\n",
      "Epoch 28/100\n",
      " - 0s - loss: 0.0025\n",
      "Epoch 29/100\n",
      " - 0s - loss: 0.0026\n",
      "Epoch 30/100\n",
      " - 0s - loss: 0.0025\n",
      "Epoch 31/100\n",
      " - 0s - loss: 0.0025\n",
      "Epoch 32/100\n",
      " - 0s - loss: 0.0025\n",
      "Epoch 33/100\n",
      " - 0s - loss: 0.0025\n",
      "Epoch 34/100\n",
      " - 0s - loss: 0.0025\n",
      "Epoch 35/100\n",
      " - 0s - loss: 0.0024\n",
      "Epoch 36/100\n",
      " - 0s - loss: 0.0024\n",
      "Epoch 37/100\n",
      " - 0s - loss: 0.0026\n",
      "Epoch 38/100\n",
      " - 0s - loss: 0.0024\n",
      "Epoch 39/100\n",
      " - 0s - loss: 0.0025\n",
      "Epoch 40/100\n",
      " - 0s - loss: 0.0025\n",
      "Epoch 41/100\n",
      " - 0s - loss: 0.0026\n",
      "Epoch 42/100\n",
      " - 0s - loss: 0.0024\n",
      "Epoch 43/100\n",
      " - 0s - loss: 0.0025\n",
      "Epoch 44/100\n",
      " - 0s - loss: 0.0025\n",
      "Epoch 45/100\n",
      " - 0s - loss: 0.0024\n",
      "Epoch 46/100\n",
      " - 0s - loss: 0.0024\n",
      "Epoch 47/100\n",
      " - 0s - loss: 0.0025\n",
      "Epoch 48/100\n",
      " - 0s - loss: 0.0025\n",
      "Epoch 49/100\n",
      " - 0s - loss: 0.0026\n",
      "Epoch 50/100\n",
      " - 0s - loss: 0.0024\n",
      "Epoch 51/100\n",
      " - 0s - loss: 0.0024\n",
      "Epoch 52/100\n",
      " - 0s - loss: 0.0025\n",
      "Epoch 53/100\n",
      " - 0s - loss: 0.0025\n",
      "Epoch 54/100\n",
      " - 0s - loss: 0.0024\n",
      "Epoch 55/100\n",
      " - 0s - loss: 0.0025\n",
      "Epoch 56/100\n",
      " - 0s - loss: 0.0025\n",
      "Epoch 57/100\n",
      " - 0s - loss: 0.0024\n",
      "Epoch 58/100\n",
      " - 0s - loss: 0.0025\n",
      "Epoch 59/100\n",
      " - 0s - loss: 0.0024\n",
      "Epoch 60/100\n",
      " - 0s - loss: 0.0024\n",
      "Epoch 61/100\n",
      " - 0s - loss: 0.0024\n",
      "Epoch 62/100\n",
      " - 0s - loss: 0.0025\n",
      "Epoch 63/100\n",
      " - 0s - loss: 0.0025\n",
      "Epoch 64/100\n",
      " - 0s - loss: 0.0024\n",
      "Epoch 65/100\n",
      " - 0s - loss: 0.0025\n",
      "Epoch 66/100\n",
      " - 0s - loss: 0.0025\n",
      "Epoch 67/100\n",
      " - 0s - loss: 0.0024\n",
      "Epoch 68/100\n",
      " - 0s - loss: 0.0024\n",
      "Epoch 69/100\n",
      " - 0s - loss: 0.0024\n",
      "Epoch 70/100\n",
      " - 0s - loss: 0.0024\n",
      "Epoch 71/100\n",
      " - 0s - loss: 0.0025\n",
      "Epoch 72/100\n",
      " - 0s - loss: 0.0024\n",
      "Epoch 73/100\n",
      " - 0s - loss: 0.0025\n",
      "Epoch 74/100\n",
      " - 0s - loss: 0.0025\n",
      "Epoch 75/100\n",
      " - 0s - loss: 0.0024\n",
      "Epoch 76/100\n",
      " - 0s - loss: 0.0025\n",
      "Epoch 77/100\n",
      " - 0s - loss: 0.0024\n",
      "Epoch 78/100\n",
      " - 0s - loss: 0.0025\n",
      "Epoch 79/100\n",
      " - 0s - loss: 0.0024\n",
      "Epoch 80/100\n",
      " - 0s - loss: 0.0024\n",
      "Epoch 81/100\n",
      " - 0s - loss: 0.0025\n",
      "Epoch 82/100\n",
      " - 0s - loss: 0.0025\n",
      "Epoch 83/100\n",
      " - 0s - loss: 0.0024\n",
      "Epoch 84/100\n",
      " - 0s - loss: 0.0024\n",
      "Epoch 85/100\n",
      " - 0s - loss: 0.0024\n",
      "Epoch 86/100\n",
      " - 0s - loss: 0.0024\n",
      "Epoch 87/100\n",
      " - 0s - loss: 0.0024\n",
      "Epoch 88/100\n",
      " - 0s - loss: 0.0024\n",
      "Epoch 89/100\n",
      " - 0s - loss: 0.0025\n",
      "Epoch 90/100\n",
      " - 0s - loss: 0.0024\n",
      "Epoch 91/100\n",
      " - 0s - loss: 0.0024\n",
      "Epoch 92/100\n",
      " - 0s - loss: 0.0024\n",
      "Epoch 93/100\n",
      " - 0s - loss: 0.0024\n",
      "Epoch 94/100\n",
      " - 0s - loss: 0.0025\n",
      "Epoch 95/100\n",
      " - 0s - loss: 0.0024\n",
      "Epoch 96/100\n",
      " - 0s - loss: 0.0024\n",
      "Epoch 97/100\n",
      " - 0s - loss: 0.0024\n",
      "Epoch 98/100\n",
      " - 0s - loss: 0.0024\n",
      "Epoch 99/100\n",
      " - 0s - loss: 0.0025\n",
      "Epoch 100/100\n",
      " - 0s - loss: 0.0024\n"
     ]
    },
    {
     "data": {
      "text/plain": [
       "<keras.callbacks.History at 0x170966a0080>"
      ]
     },
     "execution_count": 50,
     "metadata": {},
     "output_type": "execute_result"
    }
   ],
   "source": [
    "# create and fit the LSTM network\n",
    "model = Sequential()\n",
    "model.add(LSTM(4, input_shape=(1, look_back)))\n",
    "model.add(Dense(1))\n",
    "model.compile(loss='mean_squared_error', optimizer='adam')\n",
    "model.fit(trainX, trainY, epochs=100, batch_size=1, verbose=2)"
   ]
  },
  {
   "cell_type": "code",
   "execution_count": 51,
   "metadata": {},
   "outputs": [],
   "source": [
    "trainPredict = model.predict(trainX)\n",
    "testPredict = model.predict(testX)"
   ]
  },
  {
   "cell_type": "code",
   "execution_count": 52,
   "metadata": {},
   "outputs": [
    {
     "data": {
      "image/png": "[encoded data removed]",
      "text/plain": [
       "<Figure size 432x288 with 1 Axes>"
      ]
     },
     "metadata": {
      "needs_background": "light"
     },
     "output_type": "display_data"
    }
   ],
   "source": [
    "plt.plot(testPredict, color= 'red')\n",
    "plt.plot(testY)\n",
    "plt.show()"
   ]
  },
  {
   "cell_type": "code",
   "execution_count": 53,
   "metadata": {},
   "outputs": [
    {
     "data": {
      "image/png": "[encoded data removed]",
      "text/plain": [
       "<Figure size 432x288 with 1 Axes>"
      ]
     },
     "metadata": {
      "needs_background": "light"
     },
     "output_type": "display_data"
    }
   ],
   "source": [
    "plt.plot(trainPredict, color= 'red')\n",
    "plt.plot(trainY)\n",
    "plt.show()"
   ]
  },
  {
   "cell_type": "markdown",
   "metadata": {},
   "source": [
    "************************************************************"
   ]
  },
  {
   "cell_type": "markdown",
   "metadata": {},
   "source": [
    "Now answering problem 4 for making recommendations for a cart. I have used embeddings to learn latent features of every item in the database and establish ite-item similarity. The approach I have used is an item2vec approach. with this we learn features for every item in 50 dimension space and then recommend items to user based on already existing items in her cart."
   ]
  },
  {
   "cell_type": "code",
   "execution_count": 54,
   "metadata": {},
   "outputs": [],
   "source": [
    "#Read the csv file again\n",
    "df = pd.read_csv(\"./data.csv\", names=['Date','user_id','event','price','item_id','item_cat'],encoding='utf-8')"
   ]
  },
  {
   "cell_type": "markdown",
   "metadata": {},
   "source": [
    "Taking a 50% fraction of the dataset as, processing the entire dataset for this problem will take very long. For the actual purpose we may like to process the data on multiple nodes or use a compiled language for faster processing time expensive loops"
   ]
  },
  {
   "cell_type": "code",
   "execution_count": 55,
   "metadata": {},
   "outputs": [],
   "source": [
    "df=df.sample(frac=.5)"
   ]
  },
  {
   "cell_type": "code",
   "execution_count": 56,
   "metadata": {},
   "outputs": [
    {
     "data": {
      "text/plain": [
       "(10203, 633584)"
      ]
     },
     "execution_count": 56,
     "metadata": {},
     "output_type": "execute_result"
    }
   ],
   "source": [
    "len(df.item_id.unique()),len(df.user_id.unique())"
   ]
  },
  {
   "cell_type": "code",
   "execution_count": 57,
   "metadata": {},
   "outputs": [
    {
     "data": {
      "text/plain": [
       "(7570, 266107, 190)"
      ]
     },
     "execution_count": 57,
     "metadata": {},
     "output_type": "execute_result"
    }
   ],
   "source": [
    "#Drop NaN and '-' values from the data\n",
    "df.dropna(how='any',inplace=True)\n",
    "\n",
    "df=df.loc[df['item_id']!='-']\n",
    "\n",
    "dates=df.Date.unique()\n",
    "users=df.user_id.unique()\n",
    "items=df.item_id.unique()\n",
    "len(df.item_id.unique()),len(df.user_id.unique()),len(df.Date.unique())"
   ]
  },
  {
   "cell_type": "markdown",
   "metadata": {},
   "source": [
    "Create various carts. I am assuming here that a users comes to the platform/app only once a day hence I have put all addToCart and buy of a particular user on a particular day in one cart."
   ]
  },
  {
   "cell_type": "code",
   "execution_count": 58,
   "metadata": {},
   "outputs": [],
   "source": [
    "all_carts=list(df.groupby(['Date','user_id'])['item_id'].unique())"
   ]
  },
  {
   "cell_type": "code",
   "execution_count": 59,
   "metadata": {},
   "outputs": [
    {
     "name": "stderr",
     "output_type": "stream",
     "text": [
      "C:\\Users\\gaura\\Anaconda3\\lib\\site-packages\\ipykernel_launcher.py:2: DeprecationWarning: elementwise comparison failed; this will raise an error in the future.\n",
      "  \n",
      "C:\\Users\\gaura\\Anaconda3\\lib\\site-packages\\ipykernel_launcher.py:2: DeprecationWarning: The truth value of an empty array is ambiguous. Returning False, but in future this will result in an error. Use `array.size > 0` to check that an array is not empty.\n",
      "  \n"
     ]
    }
   ],
   "source": [
    "#Remove carts with zero items\n",
    "all_carts_valid= [x for x in all_carts if x != []]"
   ]
  },
  {
   "cell_type": "code",
   "execution_count": 60,
   "metadata": {},
   "outputs": [
    {
     "name": "stdout",
     "output_type": "stream",
     "text": [
      "4668.142346382141\n"
     ]
    }
   ],
   "source": [
    "#Create various combinations of two items occuring together in a cart. This will help calculate how often\n",
    "#are certain items bought/put in cart together and eventually calculate the similarity of items\n",
    "\n",
    "\n",
    "from  itertools import combinations\n",
    "import time\n",
    "all_combo=[]\n",
    "st=time.time()\n",
    "for cart in all_carts_valid:\n",
    "    combo=list(combinations((e for e in cart), 2))\n",
    "    all_combo=all_combo+combo\n",
    "en=time.time()\n",
    "print (en-st)"
   ]
  },
  {
   "cell_type": "markdown",
   "metadata": {},
   "source": [
    "The above step is the most time consuming step in the entire analysis. I would like to do this in a faster way but haven't come up with a better solution so far"
   ]
  },
  {
   "cell_type": "code",
   "execution_count": 61,
   "metadata": {},
   "outputs": [
    {
     "data": {
      "text/plain": [
       "(478, 2191606)"
      ]
     },
     "execution_count": 61,
     "metadata": {},
     "output_type": "execute_result"
    }
   ],
   "source": [
    "max(len(cart) for cart in all_carts_valid),len(all_combo)"
   ]
  },
  {
   "cell_type": "code",
   "execution_count": 62,
   "metadata": {},
   "outputs": [],
   "source": [
    "#Create two lists of items in occuring at first and second place of various item combinations\n",
    "item_1=[]\n",
    "item_2=[]\n",
    "for i in range(len(all_combo)):\n",
    "    item_1.append(all_combo[i][0])\n",
    "    item_2.append(all_combo[i][1])"
   ]
  },
  {
   "cell_type": "code",
   "execution_count": 63,
   "metadata": {},
   "outputs": [],
   "source": [
    "#Create a data frame of various combinations of the items \n",
    "df_item_item=pd.DataFrame({'item_1':item_1,'item_2':item_2})\n",
    "\n",
    "#Save the dataframe as the previous steps are time consuming and reconstructing this data frame \n",
    "df_item_item.to_csv(\"./item_item.csv\")"
   ]
  },
  {
   "cell_type": "code",
   "execution_count": 64,
   "metadata": {},
   "outputs": [],
   "source": [
    "df_item_item=pd.read_csv(\"./item_item.csv\")"
   ]
  },
  {
   "cell_type": "code",
   "execution_count": 65,
   "metadata": {},
   "outputs": [],
   "source": [
    "#This step is done to sort the order of items in the two columns. This will help make correct count of various\n",
    "#item combinations i.e. [A,B] will not be counted separate from [B,A]\n",
    "\n",
    "item_1=[]\n",
    "item_2=[]\n",
    "for i in range(len(df_item_item)):\n",
    "    x=df_item_item.loc[i][df_item_item.columns.get_loc('item_1')]\n",
    "    y=df_item_item.loc[i][df_item_item.columns.get_loc('item_2')]\n",
    "    z=sorted([x,y])  \n",
    "    item_1.append(z[0])\n",
    "    item_2.append(z[1])"
   ]
  },
  {
   "cell_type": "code",
   "execution_count": 66,
   "metadata": {},
   "outputs": [],
   "source": [
    "df_item_item['item_1']=item_1\n",
    "df_item_item['item_2']=item_2"
   ]
  },
  {
   "cell_type": "code",
   "execution_count": 67,
   "metadata": {},
   "outputs": [
    {
     "data": {
      "text/plain": [
       "Index(['Unnamed: 0', 'item_1', 'item_2'], dtype='object')"
      ]
     },
     "execution_count": 67,
     "metadata": {},
     "output_type": "execute_result"
    }
   ],
   "source": [
    "df_item_item.columns"
   ]
  },
  {
   "cell_type": "code",
   "execution_count": 68,
   "metadata": {},
   "outputs": [],
   "source": [
    "df_item_item=df_item_item.drop(columns='Unnamed: 0')"
   ]
  },
  {
   "cell_type": "code",
   "execution_count": 69,
   "metadata": {},
   "outputs": [
    {
     "data": {
      "text/html": [
       "<div>\n",
       "<style scoped>\n",
       "    .dataframe tbody tr th:only-of-type {\n",
       "        vertical-align: middle;\n",
       "    }\n",
       "\n",
       "    .dataframe tbody tr th {\n",
       "        vertical-align: top;\n",
       "    }\n",
       "\n",
       "    .dataframe thead th {\n",
       "        text-align: right;\n",
       "    }\n",
       "</style>\n",
       "<table border=\"1\" class=\"dataframe\">\n",
       "  <thead>\n",
       "    <tr style=\"text-align: right;\">\n",
       "      <th></th>\n",
       "      <th>item_1</th>\n",
       "      <th>item_2</th>\n",
       "      <th>count</th>\n",
       "    </tr>\n",
       "  </thead>\n",
       "  <tbody>\n",
       "    <tr>\n",
       "      <th>0</th>\n",
       "      <td>AD096AB18TBTDFMX</td>\n",
       "      <td>AD096AB63MZGDFMX</td>\n",
       "      <td>2</td>\n",
       "    </tr>\n",
       "    <tr>\n",
       "      <th>1</th>\n",
       "      <td>AD096AB18TBTDFMX</td>\n",
       "      <td>AD096AB66MZDDFMX</td>\n",
       "      <td>1</td>\n",
       "    </tr>\n",
       "    <tr>\n",
       "      <th>2</th>\n",
       "      <td>AD096AB18TBTDFMX</td>\n",
       "      <td>AD096AB68MZBDFMX</td>\n",
       "      <td>3</td>\n",
       "    </tr>\n",
       "    <tr>\n",
       "      <th>3</th>\n",
       "      <td>AD096AB18TBTDFMX</td>\n",
       "      <td>AD096AB69MZADFMX</td>\n",
       "      <td>2</td>\n",
       "    </tr>\n",
       "    <tr>\n",
       "      <th>4</th>\n",
       "      <td>AD096AB18TBTDFMX</td>\n",
       "      <td>AD096AC79RUQDFMX</td>\n",
       "      <td>2</td>\n",
       "    </tr>\n",
       "  </tbody>\n",
       "</table>\n",
       "</div>"
      ],
      "text/plain": [
       "             item_1            item_2  count\n",
       "0  AD096AB18TBTDFMX  AD096AB63MZGDFMX      2\n",
       "1  AD096AB18TBTDFMX  AD096AB66MZDDFMX      1\n",
       "2  AD096AB18TBTDFMX  AD096AB68MZBDFMX      3\n",
       "3  AD096AB18TBTDFMX  AD096AB69MZADFMX      2\n",
       "4  AD096AB18TBTDFMX  AD096AC79RUQDFMX      2"
      ]
     },
     "execution_count": 69,
     "metadata": {},
     "output_type": "execute_result"
    }
   ],
   "source": [
    "#Group various item-item combinations and count such occurences\n",
    "df_item_item_grouped=df_item_item.groupby(['item_1','item_2']).size()\n",
    "df_item_item_grouped=df_item_item_grouped.reset_index()\n",
    "df_item_item_grouped.columns=['item_1','item_2','count']\n",
    "df_item_item_grouped.head()"
   ]
  },
  {
   "cell_type": "code",
   "execution_count": 70,
   "metadata": {},
   "outputs": [
    {
     "data": {
      "text/html": [
       "<div>\n",
       "<style scoped>\n",
       "    .dataframe tbody tr th:only-of-type {\n",
       "        vertical-align: middle;\n",
       "    }\n",
       "\n",
       "    .dataframe tbody tr th {\n",
       "        vertical-align: top;\n",
       "    }\n",
       "\n",
       "    .dataframe thead th {\n",
       "        text-align: right;\n",
       "    }\n",
       "</style>\n",
       "<table border=\"1\" class=\"dataframe\">\n",
       "  <thead>\n",
       "    <tr style=\"text-align: right;\">\n",
       "      <th></th>\n",
       "      <th>item_id</th>\n",
       "      <th>item_code</th>\n",
       "    </tr>\n",
       "  </thead>\n",
       "  <tbody>\n",
       "    <tr>\n",
       "      <th>0</th>\n",
       "      <td>VA625SH90MPPDFMX</td>\n",
       "      <td>0</td>\n",
       "    </tr>\n",
       "    <tr>\n",
       "      <th>1</th>\n",
       "      <td>EC005AT88SVFDFMX</td>\n",
       "      <td>1</td>\n",
       "    </tr>\n",
       "    <tr>\n",
       "      <th>2</th>\n",
       "      <td>CA152AT56XXRDFMX</td>\n",
       "      <td>2</td>\n",
       "    </tr>\n",
       "    <tr>\n",
       "      <th>3</th>\n",
       "      <td>RE924AT59WSIDFMX</td>\n",
       "      <td>3</td>\n",
       "    </tr>\n",
       "    <tr>\n",
       "      <th>4</th>\n",
       "      <td>KA413AT99GOQDFMX</td>\n",
       "      <td>4</td>\n",
       "    </tr>\n",
       "  </tbody>\n",
       "</table>\n",
       "</div>"
      ],
      "text/plain": [
       "            item_id  item_code\n",
       "0  VA625SH90MPPDFMX          0\n",
       "1  EC005AT88SVFDFMX          1\n",
       "2  CA152AT56XXRDFMX          2\n",
       "3  RE924AT59WSIDFMX          3\n",
       "4  KA413AT99GOQDFMX          4"
      ]
     },
     "execution_count": 70,
     "metadata": {},
     "output_type": "execute_result"
    }
   ],
   "source": [
    "#List all unique items and corresponding numerical code for these items and put these in to a dataframe.\n",
    "#This data frame will be used as a look table\n",
    "all_items_unique=list(set((item_1+item_2)))\n",
    "all_items_unique_code=list(range(len(all_items_unique)))\n",
    "len(all_items_unique),len(all_items_unique_code)\n",
    "df_item_to_code=pd.DataFrame({'item_id':all_items_unique,'item_code':all_items_unique_code})\n",
    "df_item_to_code.head()"
   ]
  },
  {
   "cell_type": "code",
   "execution_count": 71,
   "metadata": {},
   "outputs": [
    {
     "data": {
      "text/html": [
       "<div>\n",
       "<style scoped>\n",
       "    .dataframe tbody tr th:only-of-type {\n",
       "        vertical-align: middle;\n",
       "    }\n",
       "\n",
       "    .dataframe tbody tr th {\n",
       "        vertical-align: top;\n",
       "    }\n",
       "\n",
       "    .dataframe thead th {\n",
       "        text-align: right;\n",
       "    }\n",
       "</style>\n",
       "<table border=\"1\" class=\"dataframe\">\n",
       "  <thead>\n",
       "    <tr style=\"text-align: right;\">\n",
       "      <th></th>\n",
       "      <th>item_1</th>\n",
       "      <th>item_2</th>\n",
       "      <th>count</th>\n",
       "      <th>item_id_x</th>\n",
       "      <th>item_code_x</th>\n",
       "      <th>item_id_y</th>\n",
       "      <th>item_code_y</th>\n",
       "    </tr>\n",
       "  </thead>\n",
       "  <tbody>\n",
       "    <tr>\n",
       "      <th>0</th>\n",
       "      <td>AD096AB18TBTDFMX</td>\n",
       "      <td>AD096AB63MZGDFMX</td>\n",
       "      <td>2</td>\n",
       "      <td>AD096AB18TBTDFMX</td>\n",
       "      <td>3942</td>\n",
       "      <td>AD096AB63MZGDFMX</td>\n",
       "      <td>4518</td>\n",
       "    </tr>\n",
       "    <tr>\n",
       "      <th>1</th>\n",
       "      <td>AD096AB18TBTDFMX</td>\n",
       "      <td>AD096AB66MZDDFMX</td>\n",
       "      <td>1</td>\n",
       "      <td>AD096AB18TBTDFMX</td>\n",
       "      <td>3942</td>\n",
       "      <td>AD096AB66MZDDFMX</td>\n",
       "      <td>3304</td>\n",
       "    </tr>\n",
       "    <tr>\n",
       "      <th>2</th>\n",
       "      <td>AD096AB18TBTDFMX</td>\n",
       "      <td>AD096AB68MZBDFMX</td>\n",
       "      <td>3</td>\n",
       "      <td>AD096AB18TBTDFMX</td>\n",
       "      <td>3942</td>\n",
       "      <td>AD096AB68MZBDFMX</td>\n",
       "      <td>148</td>\n",
       "    </tr>\n",
       "    <tr>\n",
       "      <th>3</th>\n",
       "      <td>AD096AB18TBTDFMX</td>\n",
       "      <td>AD096AB69MZADFMX</td>\n",
       "      <td>2</td>\n",
       "      <td>AD096AB18TBTDFMX</td>\n",
       "      <td>3942</td>\n",
       "      <td>AD096AB69MZADFMX</td>\n",
       "      <td>1848</td>\n",
       "    </tr>\n",
       "    <tr>\n",
       "      <th>4</th>\n",
       "      <td>AD096AB18TBTDFMX</td>\n",
       "      <td>AD096AC79RUQDFMX</td>\n",
       "      <td>2</td>\n",
       "      <td>AD096AB18TBTDFMX</td>\n",
       "      <td>3942</td>\n",
       "      <td>AD096AC79RUQDFMX</td>\n",
       "      <td>3050</td>\n",
       "    </tr>\n",
       "    <tr>\n",
       "      <th>5</th>\n",
       "      <td>AD096AB18TBTDFMX</td>\n",
       "      <td>AD096AC80RUPDFMX</td>\n",
       "      <td>3</td>\n",
       "      <td>AD096AB18TBTDFMX</td>\n",
       "      <td>3942</td>\n",
       "      <td>AD096AC80RUPDFMX</td>\n",
       "      <td>675</td>\n",
       "    </tr>\n",
       "    <tr>\n",
       "      <th>6</th>\n",
       "      <td>AD096AB18TBTDFMX</td>\n",
       "      <td>AD096AC82RUNDFMX</td>\n",
       "      <td>1</td>\n",
       "      <td>AD096AB18TBTDFMX</td>\n",
       "      <td>3942</td>\n",
       "      <td>AD096AC82RUNDFMX</td>\n",
       "      <td>5124</td>\n",
       "    </tr>\n",
       "    <tr>\n",
       "      <th>7</th>\n",
       "      <td>AD096AB18TBTDFMX</td>\n",
       "      <td>AD096AC83RUMDFMX</td>\n",
       "      <td>1</td>\n",
       "      <td>AD096AB18TBTDFMX</td>\n",
       "      <td>3942</td>\n",
       "      <td>AD096AC83RUMDFMX</td>\n",
       "      <td>4487</td>\n",
       "    </tr>\n",
       "    <tr>\n",
       "      <th>8</th>\n",
       "      <td>AD096AB18TBTDFMX</td>\n",
       "      <td>AD096AC86RUJDFMX</td>\n",
       "      <td>1</td>\n",
       "      <td>AD096AB18TBTDFMX</td>\n",
       "      <td>3942</td>\n",
       "      <td>AD096AC86RUJDFMX</td>\n",
       "      <td>3531</td>\n",
       "    </tr>\n",
       "    <tr>\n",
       "      <th>9</th>\n",
       "      <td>AD096AB18TBTDFMX</td>\n",
       "      <td>AD096AC88RUHDFMX</td>\n",
       "      <td>2</td>\n",
       "      <td>AD096AB18TBTDFMX</td>\n",
       "      <td>3942</td>\n",
       "      <td>AD096AC88RUHDFMX</td>\n",
       "      <td>2200</td>\n",
       "    </tr>\n",
       "    <tr>\n",
       "      <th>10</th>\n",
       "      <td>AD096AB18TBTDFMX</td>\n",
       "      <td>AD096AT19TBSDFMX</td>\n",
       "      <td>2</td>\n",
       "      <td>AD096AB18TBTDFMX</td>\n",
       "      <td>3942</td>\n",
       "      <td>AD096AT19TBSDFMX</td>\n",
       "      <td>5261</td>\n",
       "    </tr>\n",
       "    <tr>\n",
       "      <th>11</th>\n",
       "      <td>AD096AB18TBTDFMX</td>\n",
       "      <td>AD096AT20TBRDFMX</td>\n",
       "      <td>1</td>\n",
       "      <td>AD096AB18TBTDFMX</td>\n",
       "      <td>3942</td>\n",
       "      <td>AD096AT20TBRDFMX</td>\n",
       "      <td>3226</td>\n",
       "    </tr>\n",
       "    <tr>\n",
       "      <th>12</th>\n",
       "      <td>AD096AB18TBTDFMX</td>\n",
       "      <td>AD096AT21TBQDFMX</td>\n",
       "      <td>1</td>\n",
       "      <td>AD096AB18TBTDFMX</td>\n",
       "      <td>3942</td>\n",
       "      <td>AD096AT21TBQDFMX</td>\n",
       "      <td>1150</td>\n",
       "    </tr>\n",
       "    <tr>\n",
       "      <th>13</th>\n",
       "      <td>AD096AB18TBTDFMX</td>\n",
       "      <td>AD096AT23TBODFMX</td>\n",
       "      <td>2</td>\n",
       "      <td>AD096AB18TBTDFMX</td>\n",
       "      <td>3942</td>\n",
       "      <td>AD096AT23TBODFMX</td>\n",
       "      <td>6796</td>\n",
       "    </tr>\n",
       "    <tr>\n",
       "      <th>14</th>\n",
       "      <td>AD096AB18TBTDFMX</td>\n",
       "      <td>AD096AT25TBMDFMX</td>\n",
       "      <td>1</td>\n",
       "      <td>AD096AB18TBTDFMX</td>\n",
       "      <td>3942</td>\n",
       "      <td>AD096AT25TBMDFMX</td>\n",
       "      <td>957</td>\n",
       "    </tr>\n",
       "    <tr>\n",
       "      <th>15</th>\n",
       "      <td>AD096AB18TBTDFMX</td>\n",
       "      <td>AD096AT27TBKDFMX</td>\n",
       "      <td>1</td>\n",
       "      <td>AD096AB18TBTDFMX</td>\n",
       "      <td>3942</td>\n",
       "      <td>AD096AT27TBKDFMX</td>\n",
       "      <td>1204</td>\n",
       "    </tr>\n",
       "    <tr>\n",
       "      <th>16</th>\n",
       "      <td>AD096AB18TBTDFMX</td>\n",
       "      <td>AD096AT28TBJDFMX</td>\n",
       "      <td>1</td>\n",
       "      <td>AD096AB18TBTDFMX</td>\n",
       "      <td>3942</td>\n",
       "      <td>AD096AT28TBJDFMX</td>\n",
       "      <td>1939</td>\n",
       "    </tr>\n",
       "    <tr>\n",
       "      <th>17</th>\n",
       "      <td>AD096AB18TBTDFMX</td>\n",
       "      <td>AD096AT30TBHDFMX</td>\n",
       "      <td>1</td>\n",
       "      <td>AD096AB18TBTDFMX</td>\n",
       "      <td>3942</td>\n",
       "      <td>AD096AT30TBHDFMX</td>\n",
       "      <td>2494</td>\n",
       "    </tr>\n",
       "    <tr>\n",
       "      <th>18</th>\n",
       "      <td>AD096AB18TBTDFMX</td>\n",
       "      <td>AD096AT31TBGDFMX</td>\n",
       "      <td>2</td>\n",
       "      <td>AD096AB18TBTDFMX</td>\n",
       "      <td>3942</td>\n",
       "      <td>AD096AT31TBGDFMX</td>\n",
       "      <td>1085</td>\n",
       "    </tr>\n",
       "    <tr>\n",
       "      <th>19</th>\n",
       "      <td>AD096AB18TBTDFMX</td>\n",
       "      <td>AD096AT32TBFDFMX</td>\n",
       "      <td>2</td>\n",
       "      <td>AD096AB18TBTDFMX</td>\n",
       "      <td>3942</td>\n",
       "      <td>AD096AT32TBFDFMX</td>\n",
       "      <td>2234</td>\n",
       "    </tr>\n",
       "    <tr>\n",
       "      <th>20</th>\n",
       "      <td>AD096AB18TBTDFMX</td>\n",
       "      <td>AD096AT33TBEDFMX</td>\n",
       "      <td>1</td>\n",
       "      <td>AD096AB18TBTDFMX</td>\n",
       "      <td>3942</td>\n",
       "      <td>AD096AT33TBEDFMX</td>\n",
       "      <td>3750</td>\n",
       "    </tr>\n",
       "    <tr>\n",
       "      <th>21</th>\n",
       "      <td>AD096AB18TBTDFMX</td>\n",
       "      <td>AD096AT35TBCDFMX</td>\n",
       "      <td>1</td>\n",
       "      <td>AD096AB18TBTDFMX</td>\n",
       "      <td>3942</td>\n",
       "      <td>AD096AT35TBCDFMX</td>\n",
       "      <td>5818</td>\n",
       "    </tr>\n",
       "    <tr>\n",
       "      <th>22</th>\n",
       "      <td>AD096AB18TBTDFMX</td>\n",
       "      <td>AD096AT36TBBDFMX</td>\n",
       "      <td>1</td>\n",
       "      <td>AD096AB18TBTDFMX</td>\n",
       "      <td>3942</td>\n",
       "      <td>AD096AT36TBBDFMX</td>\n",
       "      <td>6210</td>\n",
       "    </tr>\n",
       "    <tr>\n",
       "      <th>23</th>\n",
       "      <td>AD096AB18TBTDFMX</td>\n",
       "      <td>AD096AT37TBADFMX</td>\n",
       "      <td>3</td>\n",
       "      <td>AD096AB18TBTDFMX</td>\n",
       "      <td>3942</td>\n",
       "      <td>AD096AT37TBADFMX</td>\n",
       "      <td>2653</td>\n",
       "    </tr>\n",
       "    <tr>\n",
       "      <th>24</th>\n",
       "      <td>AD096AB18TBTDFMX</td>\n",
       "      <td>AD096AT38TAZDFMX</td>\n",
       "      <td>1</td>\n",
       "      <td>AD096AB18TBTDFMX</td>\n",
       "      <td>3942</td>\n",
       "      <td>AD096AT38TAZDFMX</td>\n",
       "      <td>112</td>\n",
       "    </tr>\n",
       "    <tr>\n",
       "      <th>25</th>\n",
       "      <td>AD096AB18TBTDFMX</td>\n",
       "      <td>AD096AT39TAYDFMX</td>\n",
       "      <td>2</td>\n",
       "      <td>AD096AB18TBTDFMX</td>\n",
       "      <td>3942</td>\n",
       "      <td>AD096AT39TAYDFMX</td>\n",
       "      <td>1463</td>\n",
       "    </tr>\n",
       "    <tr>\n",
       "      <th>26</th>\n",
       "      <td>AD096AB18TBTDFMX</td>\n",
       "      <td>AD096AT40TAXDFMX</td>\n",
       "      <td>2</td>\n",
       "      <td>AD096AB18TBTDFMX</td>\n",
       "      <td>3942</td>\n",
       "      <td>AD096AT40TAXDFMX</td>\n",
       "      <td>5093</td>\n",
       "    </tr>\n",
       "    <tr>\n",
       "      <th>27</th>\n",
       "      <td>AD096AB18TBTDFMX</td>\n",
       "      <td>AD096AT41TAWDFMX</td>\n",
       "      <td>4</td>\n",
       "      <td>AD096AB18TBTDFMX</td>\n",
       "      <td>3942</td>\n",
       "      <td>AD096AT41TAWDFMX</td>\n",
       "      <td>960</td>\n",
       "    </tr>\n",
       "    <tr>\n",
       "      <th>28</th>\n",
       "      <td>AD096AB18TBTDFMX</td>\n",
       "      <td>AD096AT42TAVDFMX</td>\n",
       "      <td>11</td>\n",
       "      <td>AD096AB18TBTDFMX</td>\n",
       "      <td>3942</td>\n",
       "      <td>AD096AT42TAVDFMX</td>\n",
       "      <td>6489</td>\n",
       "    </tr>\n",
       "    <tr>\n",
       "      <th>29</th>\n",
       "      <td>AD096AB18TBTDFMX</td>\n",
       "      <td>AD096AT43TAUDFMX</td>\n",
       "      <td>2</td>\n",
       "      <td>AD096AB18TBTDFMX</td>\n",
       "      <td>3942</td>\n",
       "      <td>AD096AT43TAUDFMX</td>\n",
       "      <td>1870</td>\n",
       "    </tr>\n",
       "    <tr>\n",
       "      <th>...</th>\n",
       "      <td>...</td>\n",
       "      <td>...</td>\n",
       "      <td>...</td>\n",
       "      <td>...</td>\n",
       "      <td>...</td>\n",
       "      <td>...</td>\n",
       "      <td>...</td>\n",
       "    </tr>\n",
       "    <tr>\n",
       "      <th>1425405</th>\n",
       "      <td>ZO302AT94BMZDFMX</td>\n",
       "      <td>ZO302AT96BMXDFMX</td>\n",
       "      <td>3</td>\n",
       "      <td>ZO302AT94BMZDFMX</td>\n",
       "      <td>304</td>\n",
       "      <td>ZO302AT96BMXDFMX</td>\n",
       "      <td>614</td>\n",
       "    </tr>\n",
       "    <tr>\n",
       "      <th>1425406</th>\n",
       "      <td>ZO302AT94BMZDFMX</td>\n",
       "      <td>ZO302AT97BMWDFMX</td>\n",
       "      <td>1</td>\n",
       "      <td>ZO302AT94BMZDFMX</td>\n",
       "      <td>304</td>\n",
       "      <td>ZO302AT97BMWDFMX</td>\n",
       "      <td>2426</td>\n",
       "    </tr>\n",
       "    <tr>\n",
       "      <th>1425407</th>\n",
       "      <td>ZO302AT94BMZDFMX</td>\n",
       "      <td>ZO302AT98BIZDFMX</td>\n",
       "      <td>5</td>\n",
       "      <td>ZO302AT94BMZDFMX</td>\n",
       "      <td>304</td>\n",
       "      <td>ZO302AT98BIZDFMX</td>\n",
       "      <td>4416</td>\n",
       "    </tr>\n",
       "    <tr>\n",
       "      <th>1425408</th>\n",
       "      <td>ZO302AT94BMZDFMX</td>\n",
       "      <td>ZO302AT98BMVDFMX</td>\n",
       "      <td>2</td>\n",
       "      <td>ZO302AT94BMZDFMX</td>\n",
       "      <td>304</td>\n",
       "      <td>ZO302AT98BMVDFMX</td>\n",
       "      <td>3305</td>\n",
       "    </tr>\n",
       "    <tr>\n",
       "      <th>1425409</th>\n",
       "      <td>ZO302AT94BMZDFMX</td>\n",
       "      <td>ZO302AT99BIYDFMX</td>\n",
       "      <td>1</td>\n",
       "      <td>ZO302AT94BMZDFMX</td>\n",
       "      <td>304</td>\n",
       "      <td>ZO302AT99BIYDFMX</td>\n",
       "      <td>4435</td>\n",
       "    </tr>\n",
       "    <tr>\n",
       "      <th>1425410</th>\n",
       "      <td>ZO302AT94BMZDFMX</td>\n",
       "      <td>ZO302AT99BMUDFMX</td>\n",
       "      <td>7</td>\n",
       "      <td>ZO302AT94BMZDFMX</td>\n",
       "      <td>304</td>\n",
       "      <td>ZO302AT99BMUDFMX</td>\n",
       "      <td>3287</td>\n",
       "    </tr>\n",
       "    <tr>\n",
       "      <th>1425411</th>\n",
       "      <td>ZO302AT95BJCDFMX</td>\n",
       "      <td>ZO302AT96BJBDFMX</td>\n",
       "      <td>5</td>\n",
       "      <td>ZO302AT95BJCDFMX</td>\n",
       "      <td>5825</td>\n",
       "      <td>ZO302AT96BJBDFMX</td>\n",
       "      <td>4542</td>\n",
       "    </tr>\n",
       "    <tr>\n",
       "      <th>1425412</th>\n",
       "      <td>ZO302AT95BJCDFMX</td>\n",
       "      <td>ZO302AT96BMXDFMX</td>\n",
       "      <td>1</td>\n",
       "      <td>ZO302AT95BJCDFMX</td>\n",
       "      <td>5825</td>\n",
       "      <td>ZO302AT96BMXDFMX</td>\n",
       "      <td>614</td>\n",
       "    </tr>\n",
       "    <tr>\n",
       "      <th>1425413</th>\n",
       "      <td>ZO302AT95BJCDFMX</td>\n",
       "      <td>ZO302AT97BJADFMX</td>\n",
       "      <td>2</td>\n",
       "      <td>ZO302AT95BJCDFMX</td>\n",
       "      <td>5825</td>\n",
       "      <td>ZO302AT97BJADFMX</td>\n",
       "      <td>1435</td>\n",
       "    </tr>\n",
       "    <tr>\n",
       "      <th>1425414</th>\n",
       "      <td>ZO302AT95BJCDFMX</td>\n",
       "      <td>ZO302AT98BIZDFMX</td>\n",
       "      <td>3</td>\n",
       "      <td>ZO302AT95BJCDFMX</td>\n",
       "      <td>5825</td>\n",
       "      <td>ZO302AT98BIZDFMX</td>\n",
       "      <td>4416</td>\n",
       "    </tr>\n",
       "    <tr>\n",
       "      <th>1425415</th>\n",
       "      <td>ZO302AT95BJCDFMX</td>\n",
       "      <td>ZO302AT98BMVDFMX</td>\n",
       "      <td>1</td>\n",
       "      <td>ZO302AT95BJCDFMX</td>\n",
       "      <td>5825</td>\n",
       "      <td>ZO302AT98BMVDFMX</td>\n",
       "      <td>3305</td>\n",
       "    </tr>\n",
       "    <tr>\n",
       "      <th>1425416</th>\n",
       "      <td>ZO302AT96BJBDFMX</td>\n",
       "      <td>ZO302AT96BMXDFMX</td>\n",
       "      <td>1</td>\n",
       "      <td>ZO302AT96BJBDFMX</td>\n",
       "      <td>4542</td>\n",
       "      <td>ZO302AT96BMXDFMX</td>\n",
       "      <td>614</td>\n",
       "    </tr>\n",
       "    <tr>\n",
       "      <th>1425417</th>\n",
       "      <td>ZO302AT96BJBDFMX</td>\n",
       "      <td>ZO302AT97BJADFMX</td>\n",
       "      <td>3</td>\n",
       "      <td>ZO302AT96BJBDFMX</td>\n",
       "      <td>4542</td>\n",
       "      <td>ZO302AT97BJADFMX</td>\n",
       "      <td>1435</td>\n",
       "    </tr>\n",
       "    <tr>\n",
       "      <th>1425418</th>\n",
       "      <td>ZO302AT96BJBDFMX</td>\n",
       "      <td>ZO302AT98BIZDFMX</td>\n",
       "      <td>2</td>\n",
       "      <td>ZO302AT96BJBDFMX</td>\n",
       "      <td>4542</td>\n",
       "      <td>ZO302AT98BIZDFMX</td>\n",
       "      <td>4416</td>\n",
       "    </tr>\n",
       "    <tr>\n",
       "      <th>1425419</th>\n",
       "      <td>ZO302AT96BJBDFMX</td>\n",
       "      <td>ZO302AT98BMVDFMX</td>\n",
       "      <td>1</td>\n",
       "      <td>ZO302AT96BJBDFMX</td>\n",
       "      <td>4542</td>\n",
       "      <td>ZO302AT98BMVDFMX</td>\n",
       "      <td>3305</td>\n",
       "    </tr>\n",
       "    <tr>\n",
       "      <th>1425420</th>\n",
       "      <td>ZO302AT96BJBDFMX</td>\n",
       "      <td>ZO302AT99BIYDFMX</td>\n",
       "      <td>1</td>\n",
       "      <td>ZO302AT96BJBDFMX</td>\n",
       "      <td>4542</td>\n",
       "      <td>ZO302AT99BIYDFMX</td>\n",
       "      <td>4435</td>\n",
       "    </tr>\n",
       "    <tr>\n",
       "      <th>1425421</th>\n",
       "      <td>ZO302AT96BJBDFMX</td>\n",
       "      <td>ZO302AT99BMUDFMX</td>\n",
       "      <td>3</td>\n",
       "      <td>ZO302AT96BJBDFMX</td>\n",
       "      <td>4542</td>\n",
       "      <td>ZO302AT99BMUDFMX</td>\n",
       "      <td>3287</td>\n",
       "    </tr>\n",
       "    <tr>\n",
       "      <th>1425422</th>\n",
       "      <td>ZO302AT96BMXDFMX</td>\n",
       "      <td>ZO302AT97BJADFMX</td>\n",
       "      <td>2</td>\n",
       "      <td>ZO302AT96BMXDFMX</td>\n",
       "      <td>614</td>\n",
       "      <td>ZO302AT97BJADFMX</td>\n",
       "      <td>1435</td>\n",
       "    </tr>\n",
       "    <tr>\n",
       "      <th>1425423</th>\n",
       "      <td>ZO302AT96BMXDFMX</td>\n",
       "      <td>ZO302AT98BMVDFMX</td>\n",
       "      <td>8</td>\n",
       "      <td>ZO302AT96BMXDFMX</td>\n",
       "      <td>614</td>\n",
       "      <td>ZO302AT98BMVDFMX</td>\n",
       "      <td>3305</td>\n",
       "    </tr>\n",
       "    <tr>\n",
       "      <th>1425424</th>\n",
       "      <td>ZO302AT96BMXDFMX</td>\n",
       "      <td>ZO302AT99BIYDFMX</td>\n",
       "      <td>1</td>\n",
       "      <td>ZO302AT96BMXDFMX</td>\n",
       "      <td>614</td>\n",
       "      <td>ZO302AT99BIYDFMX</td>\n",
       "      <td>4435</td>\n",
       "    </tr>\n",
       "    <tr>\n",
       "      <th>1425425</th>\n",
       "      <td>ZO302AT96BMXDFMX</td>\n",
       "      <td>ZO302AT99BMUDFMX</td>\n",
       "      <td>3</td>\n",
       "      <td>ZO302AT96BMXDFMX</td>\n",
       "      <td>614</td>\n",
       "      <td>ZO302AT99BMUDFMX</td>\n",
       "      <td>3287</td>\n",
       "    </tr>\n",
       "    <tr>\n",
       "      <th>1425426</th>\n",
       "      <td>ZO302AT97BFEDFMX</td>\n",
       "      <td>ZO302AT97BJADFMX</td>\n",
       "      <td>1</td>\n",
       "      <td>ZO302AT97BFEDFMX</td>\n",
       "      <td>1996</td>\n",
       "      <td>ZO302AT97BJADFMX</td>\n",
       "      <td>1435</td>\n",
       "    </tr>\n",
       "    <tr>\n",
       "      <th>1425427</th>\n",
       "      <td>ZO302AT97BJADFMX</td>\n",
       "      <td>ZO302AT97BMWDFMX</td>\n",
       "      <td>1</td>\n",
       "      <td>ZO302AT97BJADFMX</td>\n",
       "      <td>1435</td>\n",
       "      <td>ZO302AT97BMWDFMX</td>\n",
       "      <td>2426</td>\n",
       "    </tr>\n",
       "    <tr>\n",
       "      <th>1425428</th>\n",
       "      <td>ZO302AT97BJADFMX</td>\n",
       "      <td>ZO302AT99BMUDFMX</td>\n",
       "      <td>1</td>\n",
       "      <td>ZO302AT97BJADFMX</td>\n",
       "      <td>1435</td>\n",
       "      <td>ZO302AT99BMUDFMX</td>\n",
       "      <td>3287</td>\n",
       "    </tr>\n",
       "    <tr>\n",
       "      <th>1425429</th>\n",
       "      <td>ZO302AT97BMWDFMX</td>\n",
       "      <td>ZO302AT98BIZDFMX</td>\n",
       "      <td>1</td>\n",
       "      <td>ZO302AT97BMWDFMX</td>\n",
       "      <td>2426</td>\n",
       "      <td>ZO302AT98BIZDFMX</td>\n",
       "      <td>4416</td>\n",
       "    </tr>\n",
       "    <tr>\n",
       "      <th>1425430</th>\n",
       "      <td>ZO302AT97BMWDFMX</td>\n",
       "      <td>ZO302AT98BMVDFMX</td>\n",
       "      <td>1</td>\n",
       "      <td>ZO302AT97BMWDFMX</td>\n",
       "      <td>2426</td>\n",
       "      <td>ZO302AT98BMVDFMX</td>\n",
       "      <td>3305</td>\n",
       "    </tr>\n",
       "    <tr>\n",
       "      <th>1425431</th>\n",
       "      <td>ZO302AT97BMWDFMX</td>\n",
       "      <td>ZO302AT99BMUDFMX</td>\n",
       "      <td>2</td>\n",
       "      <td>ZO302AT97BMWDFMX</td>\n",
       "      <td>2426</td>\n",
       "      <td>ZO302AT99BMUDFMX</td>\n",
       "      <td>3287</td>\n",
       "    </tr>\n",
       "    <tr>\n",
       "      <th>1425432</th>\n",
       "      <td>ZO302AT98BIZDFMX</td>\n",
       "      <td>ZO302AT99BMUDFMX</td>\n",
       "      <td>1</td>\n",
       "      <td>ZO302AT98BIZDFMX</td>\n",
       "      <td>4416</td>\n",
       "      <td>ZO302AT99BMUDFMX</td>\n",
       "      <td>3287</td>\n",
       "    </tr>\n",
       "    <tr>\n",
       "      <th>1425433</th>\n",
       "      <td>ZO302AT98BMVDFMX</td>\n",
       "      <td>ZO302AT99BMUDFMX</td>\n",
       "      <td>3</td>\n",
       "      <td>ZO302AT98BMVDFMX</td>\n",
       "      <td>3305</td>\n",
       "      <td>ZO302AT99BMUDFMX</td>\n",
       "      <td>3287</td>\n",
       "    </tr>\n",
       "    <tr>\n",
       "      <th>1425434</th>\n",
       "      <td>ZO302AT99BIYDFMX</td>\n",
       "      <td>ZO302AT99BMUDFMX</td>\n",
       "      <td>1</td>\n",
       "      <td>ZO302AT99BIYDFMX</td>\n",
       "      <td>4435</td>\n",
       "      <td>ZO302AT99BMUDFMX</td>\n",
       "      <td>3287</td>\n",
       "    </tr>\n",
       "  </tbody>\n",
       "</table>\n",
       "<p>1425435 rows × 7 columns</p>\n",
       "</div>"
      ],
      "text/plain": [
       "                   item_1            item_2  count         item_id_x  \\\n",
       "0        AD096AB18TBTDFMX  AD096AB63MZGDFMX      2  AD096AB18TBTDFMX   \n",
       "1        AD096AB18TBTDFMX  AD096AB66MZDDFMX      1  AD096AB18TBTDFMX   \n",
       "2        AD096AB18TBTDFMX  AD096AB68MZBDFMX      3  AD096AB18TBTDFMX   \n",
       "3        AD096AB18TBTDFMX  AD096AB69MZADFMX      2  AD096AB18TBTDFMX   \n",
       "4        AD096AB18TBTDFMX  AD096AC79RUQDFMX      2  AD096AB18TBTDFMX   \n",
       "5        AD096AB18TBTDFMX  AD096AC80RUPDFMX      3  AD096AB18TBTDFMX   \n",
       "6        AD096AB18TBTDFMX  AD096AC82RUNDFMX      1  AD096AB18TBTDFMX   \n",
       "7        AD096AB18TBTDFMX  AD096AC83RUMDFMX      1  AD096AB18TBTDFMX   \n",
       "8        AD096AB18TBTDFMX  AD096AC86RUJDFMX      1  AD096AB18TBTDFMX   \n",
       "9        AD096AB18TBTDFMX  AD096AC88RUHDFMX      2  AD096AB18TBTDFMX   \n",
       "10       AD096AB18TBTDFMX  AD096AT19TBSDFMX      2  AD096AB18TBTDFMX   \n",
       "11       AD096AB18TBTDFMX  AD096AT20TBRDFMX      1  AD096AB18TBTDFMX   \n",
       "12       AD096AB18TBTDFMX  AD096AT21TBQDFMX      1  AD096AB18TBTDFMX   \n",
       "13       AD096AB18TBTDFMX  AD096AT23TBODFMX      2  AD096AB18TBTDFMX   \n",
       "14       AD096AB18TBTDFMX  AD096AT25TBMDFMX      1  AD096AB18TBTDFMX   \n",
       "15       AD096AB18TBTDFMX  AD096AT27TBKDFMX      1  AD096AB18TBTDFMX   \n",
       "16       AD096AB18TBTDFMX  AD096AT28TBJDFMX      1  AD096AB18TBTDFMX   \n",
       "17       AD096AB18TBTDFMX  AD096AT30TBHDFMX      1  AD096AB18TBTDFMX   \n",
       "18       AD096AB18TBTDFMX  AD096AT31TBGDFMX      2  AD096AB18TBTDFMX   \n",
       "19       AD096AB18TBTDFMX  AD096AT32TBFDFMX      2  AD096AB18TBTDFMX   \n",
       "20       AD096AB18TBTDFMX  AD096AT33TBEDFMX      1  AD096AB18TBTDFMX   \n",
       "21       AD096AB18TBTDFMX  AD096AT35TBCDFMX      1  AD096AB18TBTDFMX   \n",
       "22       AD096AB18TBTDFMX  AD096AT36TBBDFMX      1  AD096AB18TBTDFMX   \n",
       "23       AD096AB18TBTDFMX  AD096AT37TBADFMX      3  AD096AB18TBTDFMX   \n",
       "24       AD096AB18TBTDFMX  AD096AT38TAZDFMX      1  AD096AB18TBTDFMX   \n",
       "25       AD096AB18TBTDFMX  AD096AT39TAYDFMX      2  AD096AB18TBTDFMX   \n",
       "26       AD096AB18TBTDFMX  AD096AT40TAXDFMX      2  AD096AB18TBTDFMX   \n",
       "27       AD096AB18TBTDFMX  AD096AT41TAWDFMX      4  AD096AB18TBTDFMX   \n",
       "28       AD096AB18TBTDFMX  AD096AT42TAVDFMX     11  AD096AB18TBTDFMX   \n",
       "29       AD096AB18TBTDFMX  AD096AT43TAUDFMX      2  AD096AB18TBTDFMX   \n",
       "...                   ...               ...    ...               ...   \n",
       "1425405  ZO302AT94BMZDFMX  ZO302AT96BMXDFMX      3  ZO302AT94BMZDFMX   \n",
       "1425406  ZO302AT94BMZDFMX  ZO302AT97BMWDFMX      1  ZO302AT94BMZDFMX   \n",
       "1425407  ZO302AT94BMZDFMX  ZO302AT98BIZDFMX      5  ZO302AT94BMZDFMX   \n",
       "1425408  ZO302AT94BMZDFMX  ZO302AT98BMVDFMX      2  ZO302AT94BMZDFMX   \n",
       "1425409  ZO302AT94BMZDFMX  ZO302AT99BIYDFMX      1  ZO302AT94BMZDFMX   \n",
       "1425410  ZO302AT94BMZDFMX  ZO302AT99BMUDFMX      7  ZO302AT94BMZDFMX   \n",
       "1425411  ZO302AT95BJCDFMX  ZO302AT96BJBDFMX      5  ZO302AT95BJCDFMX   \n",
       "1425412  ZO302AT95BJCDFMX  ZO302AT96BMXDFMX      1  ZO302AT95BJCDFMX   \n",
       "1425413  ZO302AT95BJCDFMX  ZO302AT97BJADFMX      2  ZO302AT95BJCDFMX   \n",
       "1425414  ZO302AT95BJCDFMX  ZO302AT98BIZDFMX      3  ZO302AT95BJCDFMX   \n",
       "1425415  ZO302AT95BJCDFMX  ZO302AT98BMVDFMX      1  ZO302AT95BJCDFMX   \n",
       "1425416  ZO302AT96BJBDFMX  ZO302AT96BMXDFMX      1  ZO302AT96BJBDFMX   \n",
       "1425417  ZO302AT96BJBDFMX  ZO302AT97BJADFMX      3  ZO302AT96BJBDFMX   \n",
       "1425418  ZO302AT96BJBDFMX  ZO302AT98BIZDFMX      2  ZO302AT96BJBDFMX   \n",
       "1425419  ZO302AT96BJBDFMX  ZO302AT98BMVDFMX      1  ZO302AT96BJBDFMX   \n",
       "1425420  ZO302AT96BJBDFMX  ZO302AT99BIYDFMX      1  ZO302AT96BJBDFMX   \n",
       "1425421  ZO302AT96BJBDFMX  ZO302AT99BMUDFMX      3  ZO302AT96BJBDFMX   \n",
       "1425422  ZO302AT96BMXDFMX  ZO302AT97BJADFMX      2  ZO302AT96BMXDFMX   \n",
       "1425423  ZO302AT96BMXDFMX  ZO302AT98BMVDFMX      8  ZO302AT96BMXDFMX   \n",
       "1425424  ZO302AT96BMXDFMX  ZO302AT99BIYDFMX      1  ZO302AT96BMXDFMX   \n",
       "1425425  ZO302AT96BMXDFMX  ZO302AT99BMUDFMX      3  ZO302AT96BMXDFMX   \n",
       "1425426  ZO302AT97BFEDFMX  ZO302AT97BJADFMX      1  ZO302AT97BFEDFMX   \n",
       "1425427  ZO302AT97BJADFMX  ZO302AT97BMWDFMX      1  ZO302AT97BJADFMX   \n",
       "1425428  ZO302AT97BJADFMX  ZO302AT99BMUDFMX      1  ZO302AT97BJADFMX   \n",
       "1425429  ZO302AT97BMWDFMX  ZO302AT98BIZDFMX      1  ZO302AT97BMWDFMX   \n",
       "1425430  ZO302AT97BMWDFMX  ZO302AT98BMVDFMX      1  ZO302AT97BMWDFMX   \n",
       "1425431  ZO302AT97BMWDFMX  ZO302AT99BMUDFMX      2  ZO302AT97BMWDFMX   \n",
       "1425432  ZO302AT98BIZDFMX  ZO302AT99BMUDFMX      1  ZO302AT98BIZDFMX   \n",
       "1425433  ZO302AT98BMVDFMX  ZO302AT99BMUDFMX      3  ZO302AT98BMVDFMX   \n",
       "1425434  ZO302AT99BIYDFMX  ZO302AT99BMUDFMX      1  ZO302AT99BIYDFMX   \n",
       "\n",
       "         item_code_x         item_id_y  item_code_y  \n",
       "0               3942  AD096AB63MZGDFMX         4518  \n",
       "1               3942  AD096AB66MZDDFMX         3304  \n",
       "2               3942  AD096AB68MZBDFMX          148  \n",
       "3               3942  AD096AB69MZADFMX         1848  \n",
       "4               3942  AD096AC79RUQDFMX         3050  \n",
       "5               3942  AD096AC80RUPDFMX          675  \n",
       "6               3942  AD096AC82RUNDFMX         5124  \n",
       "7               3942  AD096AC83RUMDFMX         4487  \n",
       "8               3942  AD096AC86RUJDFMX         3531  \n",
       "9               3942  AD096AC88RUHDFMX         2200  \n",
       "10              3942  AD096AT19TBSDFMX         5261  \n",
       "11              3942  AD096AT20TBRDFMX         3226  \n",
       "12              3942  AD096AT21TBQDFMX         1150  \n",
       "13              3942  AD096AT23TBODFMX         6796  \n",
       "14              3942  AD096AT25TBMDFMX          957  \n",
       "15              3942  AD096AT27TBKDFMX         1204  \n",
       "16              3942  AD096AT28TBJDFMX         1939  \n",
       "17              3942  AD096AT30TBHDFMX         2494  \n",
       "18              3942  AD096AT31TBGDFMX         1085  \n",
       "19              3942  AD096AT32TBFDFMX         2234  \n",
       "20              3942  AD096AT33TBEDFMX         3750  \n",
       "21              3942  AD096AT35TBCDFMX         5818  \n",
       "22              3942  AD096AT36TBBDFMX         6210  \n",
       "23              3942  AD096AT37TBADFMX         2653  \n",
       "24              3942  AD096AT38TAZDFMX          112  \n",
       "25              3942  AD096AT39TAYDFMX         1463  \n",
       "26              3942  AD096AT40TAXDFMX         5093  \n",
       "27              3942  AD096AT41TAWDFMX          960  \n",
       "28              3942  AD096AT42TAVDFMX         6489  \n",
       "29              3942  AD096AT43TAUDFMX         1870  \n",
       "...              ...               ...          ...  \n",
       "1425405          304  ZO302AT96BMXDFMX          614  \n",
       "1425406          304  ZO302AT97BMWDFMX         2426  \n",
       "1425407          304  ZO302AT98BIZDFMX         4416  \n",
       "1425408          304  ZO302AT98BMVDFMX         3305  \n",
       "1425409          304  ZO302AT99BIYDFMX         4435  \n",
       "1425410          304  ZO302AT99BMUDFMX         3287  \n",
       "1425411         5825  ZO302AT96BJBDFMX         4542  \n",
       "1425412         5825  ZO302AT96BMXDFMX          614  \n",
       "1425413         5825  ZO302AT97BJADFMX         1435  \n",
       "1425414         5825  ZO302AT98BIZDFMX         4416  \n",
       "1425415         5825  ZO302AT98BMVDFMX         3305  \n",
       "1425416         4542  ZO302AT96BMXDFMX          614  \n",
       "1425417         4542  ZO302AT97BJADFMX         1435  \n",
       "1425418         4542  ZO302AT98BIZDFMX         4416  \n",
       "1425419         4542  ZO302AT98BMVDFMX         3305  \n",
       "1425420         4542  ZO302AT99BIYDFMX         4435  \n",
       "1425421         4542  ZO302AT99BMUDFMX         3287  \n",
       "1425422          614  ZO302AT97BJADFMX         1435  \n",
       "1425423          614  ZO302AT98BMVDFMX         3305  \n",
       "1425424          614  ZO302AT99BIYDFMX         4435  \n",
       "1425425          614  ZO302AT99BMUDFMX         3287  \n",
       "1425426         1996  ZO302AT97BJADFMX         1435  \n",
       "1425427         1435  ZO302AT97BMWDFMX         2426  \n",
       "1425428         1435  ZO302AT99BMUDFMX         3287  \n",
       "1425429         2426  ZO302AT98BIZDFMX         4416  \n",
       "1425430         2426  ZO302AT98BMVDFMX         3305  \n",
       "1425431         2426  ZO302AT99BMUDFMX         3287  \n",
       "1425432         4416  ZO302AT99BMUDFMX         3287  \n",
       "1425433         3305  ZO302AT99BMUDFMX         3287  \n",
       "1425434         4435  ZO302AT99BMUDFMX         3287  \n",
       "\n",
       "[1425435 rows x 7 columns]"
      ]
     },
     "execution_count": 71,
     "metadata": {},
     "output_type": "execute_result"
    }
   ],
   "source": [
    "#Merge the two dataframes to get corresponding numerical item codes. It is necessary to do this because \n",
    "#keras/tensorflow will not process string data.\n",
    "df_item_item_grouped=df_item_item_grouped.merge(df_item_to_code,how='left',left_on='item_1',right_on='item_id')\n",
    "df_item_item_grouped.rename(columns={'item_code':'item_1_code'})\n",
    "df_item_item_grouped=df_item_item_grouped.merge(df_item_to_code,how='left',left_on='item_2',right_on='item_id')\n",
    "df_item_item_grouped.rename(columns={'item_code':'item_2_code'})"
   ]
  },
  {
   "cell_type": "code",
   "execution_count": 72,
   "metadata": {},
   "outputs": [
    {
     "data": {
      "text/html": [
       "<div>\n",
       "<style scoped>\n",
       "    .dataframe tbody tr th:only-of-type {\n",
       "        vertical-align: middle;\n",
       "    }\n",
       "\n",
       "    .dataframe tbody tr th {\n",
       "        vertical-align: top;\n",
       "    }\n",
       "\n",
       "    .dataframe thead th {\n",
       "        text-align: right;\n",
       "    }\n",
       "</style>\n",
       "<table border=\"1\" class=\"dataframe\">\n",
       "  <thead>\n",
       "    <tr style=\"text-align: right;\">\n",
       "      <th></th>\n",
       "      <th>item_1</th>\n",
       "      <th>item_2</th>\n",
       "      <th>count</th>\n",
       "      <th>item_code_x</th>\n",
       "      <th>item_code_y</th>\n",
       "    </tr>\n",
       "  </thead>\n",
       "  <tbody>\n",
       "    <tr>\n",
       "      <th>0</th>\n",
       "      <td>AD096AB18TBTDFMX</td>\n",
       "      <td>AD096AB63MZGDFMX</td>\n",
       "      <td>2</td>\n",
       "      <td>3942</td>\n",
       "      <td>4518</td>\n",
       "    </tr>\n",
       "    <tr>\n",
       "      <th>1</th>\n",
       "      <td>AD096AB18TBTDFMX</td>\n",
       "      <td>AD096AB66MZDDFMX</td>\n",
       "      <td>1</td>\n",
       "      <td>3942</td>\n",
       "      <td>3304</td>\n",
       "    </tr>\n",
       "    <tr>\n",
       "      <th>2</th>\n",
       "      <td>AD096AB18TBTDFMX</td>\n",
       "      <td>AD096AB68MZBDFMX</td>\n",
       "      <td>3</td>\n",
       "      <td>3942</td>\n",
       "      <td>148</td>\n",
       "    </tr>\n",
       "    <tr>\n",
       "      <th>3</th>\n",
       "      <td>AD096AB18TBTDFMX</td>\n",
       "      <td>AD096AB69MZADFMX</td>\n",
       "      <td>2</td>\n",
       "      <td>3942</td>\n",
       "      <td>1848</td>\n",
       "    </tr>\n",
       "    <tr>\n",
       "      <th>4</th>\n",
       "      <td>AD096AB18TBTDFMX</td>\n",
       "      <td>AD096AC79RUQDFMX</td>\n",
       "      <td>2</td>\n",
       "      <td>3942</td>\n",
       "      <td>3050</td>\n",
       "    </tr>\n",
       "  </tbody>\n",
       "</table>\n",
       "</div>"
      ],
      "text/plain": [
       "             item_1            item_2  count  item_code_x  item_code_y\n",
       "0  AD096AB18TBTDFMX  AD096AB63MZGDFMX      2         3942         4518\n",
       "1  AD096AB18TBTDFMX  AD096AB66MZDDFMX      1         3942         3304\n",
       "2  AD096AB18TBTDFMX  AD096AB68MZBDFMX      3         3942          148\n",
       "3  AD096AB18TBTDFMX  AD096AB69MZADFMX      2         3942         1848\n",
       "4  AD096AB18TBTDFMX  AD096AC79RUQDFMX      2         3942         3050"
      ]
     },
     "execution_count": 72,
     "metadata": {},
     "output_type": "execute_result"
    }
   ],
   "source": [
    "#drop unnecessary columns\n",
    "df_item_item_grouped=df_item_item_grouped.drop(columns=['item_id_x','item_id_y'])\n",
    "df_item_item_grouped.head()"
   ]
  },
  {
   "cell_type": "code",
   "execution_count": 73,
   "metadata": {},
   "outputs": [],
   "source": [
    "#Interchange the item_id and item_code columns and concat to make sure that all items codes are \n",
    "#passed through the model\n",
    "df_item_item_grouped_repeat=pd.DataFrame({'item_1':df_item_item_grouped['item_2'],\n",
    "                                         'item_2':df_item_item_grouped['item_1'],\n",
    "                                         'count':df_item_item_grouped['count'],\n",
    "                                         'item_code_x':df_item_item_grouped['item_code_y'],\n",
    "                                         'item_code_y':df_item_item_grouped['item_code_x']})\n",
    "\n",
    "frames=[df_item_item_grouped,df_item_item_grouped_repeat]\n",
    "\n",
    "df_item_item_grouped=pd.concat(frames)"
   ]
  },
  {
   "cell_type": "code",
   "execution_count": 74,
   "metadata": {},
   "outputs": [],
   "source": [
    "from keras.models import load_model\n",
    "from keras import regularizers\n",
    "from keras.models import Sequential, Model\n",
    "from keras.layers import Embedding, Reshape, Activation, Input, Dense, Flatten, Dropout\n",
    "from keras.layers.merge import Dot, Concatenate\n",
    "from keras.utils import np_utils\n",
    "from keras.utils.data_utils import get_file\n",
    "from collections import defaultdict\n",
    "from sklearn.model_selection import train_test_split"
   ]
  },
  {
   "cell_type": "code",
   "execution_count": 75,
   "metadata": {},
   "outputs": [],
   "source": [
    "n_items_1,n_items_2 = len(df_item_item_grouped.item_code_x.unique()),len(df_item_item_grouped.item_code_y.unique())  \n",
    "max_items_1,max_items_2=max(df_item_item_grouped.item_code_x),max(df_item_item_grouped.item_code_y)"
   ]
  },
  {
   "cell_type": "code",
   "execution_count": 76,
   "metadata": {},
   "outputs": [],
   "source": [
    "#Define and compile the model. Both columns containing containing the item codes are passed through\n",
    "#embedding layers. I am merging the two layers through dot product but we can try other combinations\n",
    "#and optimise the model by hyper parameter tuning.\n",
    "item_1_input = Input(shape=[1], name=\"item_1_input\")\n",
    "item_1_embedding = Embedding(max_items_1+1,50,  name=\"item_1_embedding\")(item_1_input)\n",
    "        \n",
    "item_1_vec = Flatten(name=\"flatten_item_1\")(item_1_embedding)\n",
    "\n",
    "item_2_input = Input(shape=[1], name=\"item_2_input\")\n",
    "item_2_embedding = Embedding(max_items_2+1,50,  name=\"item_2_embedding\")(item_2_input)\n",
    "        \n",
    "item_2_vec = Flatten(name=\"flatten_item_2\")(item_2_embedding)\n",
    "\n",
    "product_layer = Dot(name=\"Dot\",axes=1)([item_1_vec, item_2_vec])\n",
    "\n",
    "        \n",
    "output_connected_layer = Dense(1,activation ='linear')(product_layer)\n",
    "\n",
    "model = Model([item_1_input, item_2_input],output_connected_layer)\n",
    "model.compile(loss='mse', optimizer='adam', metrics=[\"mae\"])"
   ]
  },
  {
   "cell_type": "code",
   "execution_count": 77,
   "metadata": {},
   "outputs": [],
   "source": [
    "#prepare the data for training\n",
    "X_1=np.array(df_item_item_grouped.item_code_x)\n",
    "X_1=np.reshape(X_1,(X_1.shape[0],1))\n",
    "X_2=np.array(df_item_item_grouped.item_code_y)\n",
    "X_2=np.reshape(X_2,(X_2.shape[0],1))\n",
    "y=np.array(df_item_item_grouped['count'])\n",
    "y=np.reshape(y,(y.shape[0],1))"
   ]
  },
  {
   "cell_type": "code",
   "execution_count": 78,
   "metadata": {},
   "outputs": [
    {
     "name": "stdout",
     "output_type": "stream",
     "text": [
      "Train on 2565783 samples, validate on 285087 samples\n",
      "Epoch 1/1\n",
      "2565783/2565783 [==============================] - 930s 363us/step - loss: 6.2088 - mean_absolute_error: 0.7636 - val_loss: 29.1966 - val_mean_absolute_error: 0.9848\n"
     ]
    }
   ],
   "source": [
    "#Train the model. I am training for only one epoch but based on error values the epochs need to be increased\n",
    "model.fit([X_1, X_2], y, epochs= 1, verbose=1,validation_split=0.1)\n",
    "model.save('item_item_similarity.h5')"
   ]
  },
  {
   "cell_type": "code",
   "execution_count": 79,
   "metadata": {},
   "outputs": [
    {
     "data": {
      "text/plain": [
       "'item_1_embedding'"
      ]
     },
     "execution_count": 79,
     "metadata": {},
     "output_type": "execute_result"
    }
   ],
   "source": [
    "model.layers[2].name"
   ]
  },
  {
   "cell_type": "code",
   "execution_count": 80,
   "metadata": {},
   "outputs": [
    {
     "name": "stdout",
     "output_type": "stream",
     "text": [
      "[array([[ 0.04284821, -0.02404456, -0.17615974, ...,  0.01172136,\n",
      "         0.02896572,  0.17987937],\n",
      "       [ 0.394389  , -0.12193815, -0.21055283, ..., -0.11045051,\n",
      "        -0.05105712,  0.37751386],\n",
      "       [ 0.18561314, -0.3223406 , -0.14832127, ...,  0.11259539,\n",
      "         0.03964197,  0.28062668],\n",
      "       ...,\n",
      "       [ 0.3518164 , -0.09994531, -0.21642943, ..., -0.0414126 ,\n",
      "        -0.0691138 ,  0.21819484],\n",
      "       [ 0.22835977, -0.1851176 , -0.29126665, ..., -0.09025272,\n",
      "         0.09778722,  0.19706368],\n",
      "       [ 0.19658005, -0.18518658, -0.26278633, ..., -0.0608848 ,\n",
      "         0.14706078,  0.15895277]], dtype=float32)]\n"
     ]
    }
   ],
   "source": [
    "#extract the embedding weights from the embedding layer\n",
    "weights=model.layers[2].get_weights()\n",
    "print(weights)"
   ]
  },
  {
   "cell_type": "code",
   "execution_count": 81,
   "metadata": {},
   "outputs": [
    {
     "data": {
      "text/plain": [
       "((5, 1), (5, 1), (5, 1))"
      ]
     },
     "execution_count": 81,
     "metadata": {},
     "output_type": "execute_result"
    }
   ],
   "source": [
    "#Prepare the data for training another model that will learn cart feature based on which items are already\n",
    "#there in the cart. I have taken cart size as 5 items but it can be any number except 0.\n",
    "items_in_cart=np.random.choice(all_items_unique_code,5)\n",
    "cart=np.repeat(1,len(items_in_cart))\n",
    "items_in_cart=np.reshape(items_in_cart,(items_in_cart.shape[0],1))\n",
    "cart=np.reshape(cart,(cart.shape[0],1))\n",
    "output=cart\n",
    "items_in_cart.shape,cart.shape,output.shape"
   ]
  },
  {
   "cell_type": "code",
   "execution_count": 82,
   "metadata": {},
   "outputs": [],
   "source": [
    "#define and compile the model \n",
    "items_input = Input(shape=[1], name=\"items_input\")\n",
    "items_embedding = Embedding(max_items_1+1,50,  name=\"items_embedding\",weights=weights,trainable=False)(items_input)\n",
    "        \n",
    "items_vec = Flatten(name=\"flatten_items\")(items_embedding)\n",
    "\n",
    "cart_input = Input(shape=[1], name=\"cart_input\")\n",
    "cart_embedding = Embedding(max_items_2+1,50,  name=\"cart_embedding\")(cart_input)\n",
    "        \n",
    "cart_vec = Flatten(name=\"flatten_item_2\")(cart_embedding)\n",
    "\n",
    "product_layer = Dot(name=\"Dot\",axes=1)([items_vec, cart_vec])\n",
    "\n",
    "        \n",
    "output_connected_layer = Dense(1,activation ='linear')(product_layer)\n",
    "\n",
    "model_1 = Model([items_input, cart_input],output_connected_layer)\n",
    "model_1.compile(loss='mse', optimizer='adam', metrics=[\"mae\"])"
   ]
  },
  {
   "cell_type": "code",
   "execution_count": 83,
   "metadata": {},
   "outputs": [
    {
     "name": "stdout",
     "output_type": "stream",
     "text": [
      "Train on 4 samples, validate on 1 samples\n",
      "Epoch 1/1\n",
      "4/4 [==============================] - 1s 143ms/step - loss: 0.9709 - mean_absolute_error: 0.9851 - val_loss: 0.9729 - val_mean_absolute_error: 0.9863\n"
     ]
    }
   ],
   "source": [
    "#train the model\n",
    "model_1.fit([items_in_cart,cart], output, epochs= 1, verbose=1,validation_split=0.1)\n",
    "model_1.save('item_cart.h5')"
   ]
  },
  {
   "cell_type": "code",
   "execution_count": 84,
   "metadata": {},
   "outputs": [],
   "source": [
    "#prepare the data for making predictions for the next recommended item for the cart\n",
    "cart=np.repeat(1,len(all_items_unique_code))\n",
    "items=np.array(all_items_unique_code)\n",
    "items=np.reshape(items,(items.shape[0],1))\n",
    "cart=np.reshape(cart,(cart.shape[0],1))"
   ]
  },
  {
   "cell_type": "code",
   "execution_count": 85,
   "metadata": {},
   "outputs": [],
   "source": [
    "#recommend the next items in the cart\n",
    "predictions=model.predict([items,cart])\n",
    "predictions=predictions.tolist()"
   ]
  },
  {
   "cell_type": "code",
   "execution_count": 87,
   "metadata": {},
   "outputs": [],
   "source": [
    "recommended_df=pd.DataFrame({'item_code':all_items_unique_code,'item_id':all_items_unique,'prediction':predictions})\n",
    "recommended_df=recommended_df.sort_values(by=['prediction'],ascending=False)"
   ]
  },
  {
   "cell_type": "code",
   "execution_count": 88,
   "metadata": {},
   "outputs": [],
   "source": [
    "#top 10 recommended items for the cart\n",
    "recommended_items=recommended_df.head(10).item_id"
   ]
  },
  {
   "cell_type": "code",
   "execution_count": 89,
   "metadata": {},
   "outputs": [
    {
     "data": {
      "text/plain": [
       "6748    CU824AT10TUJDFMX\n",
       "2162    GU531AC58GMJDFMX\n",
       "3571    NA379AT65THUDFMX\n",
       "4221    LO850AT52RZRDFMX\n",
       "3436    LO850AT94RYBDFMX\n",
       "5045    NA379AT72YRVDFMX\n",
       "7102    LE063AT26SZTDFMX\n",
       "1326    MA486AT79YLWDFMX\n",
       "884     TO253AB35MDGDFMX\n",
       "3637    ST089SH23AVODFMX\n",
       "Name: item_id, dtype: object"
      ]
     },
     "execution_count": 89,
     "metadata": {},
     "output_type": "execute_result"
    }
   ],
   "source": [
    "recommended_items"
   ]
  },
  {
   "cell_type": "code",
   "execution_count": null,
   "metadata": {},
   "outputs": [],
   "source": []
  }
 ],
 "metadata": {
  "kernelspec": {
   "display_name": "Python 3",
   "language": "python",
   "name": "python3"
  },
  "language_info": {
   "codemirror_mode": {
    "name": "ipython",
    "version": 3
   },
   "file_extension": ".py",
   "mimetype": "text/x-python",
   "name": "python",
   "nbconvert_exporter": "python",
   "pygments_lexer": "ipython3",
   "version": "3.7.3"
  }
 },
 "nbformat": 4,
 "nbformat_minor": 2
}
